{
 "cells": [
  {
   "cell_type": "code",
   "execution_count": 4,
   "id": "44a4a061",
   "metadata": {},
   "outputs": [
    {
     "name": "stdout",
     "output_type": "stream",
     "text": [
      "        nf1       nf2\n",
      "0 -0.014003  0.755975\n",
      "1  2.556534 -0.780432\n",
      "2  0.051480  1.253135\n",
      "3 -1.014150  0.000239\n",
      "4 -1.579861 -1.228917\n"
     ]
    }
   ],
   "source": [
    "import numpy as np\n",
    "import pandas as pd\n",
    "from sklearn.decomposition import PCA\n",
    "\n",
    "A = np.matrix([[1, 2, 3, 4],\n",
    "              [5, 5, 6, 7],\n",
    "              [1, 4, 2, 3],\n",
    "              [5, 3, 2, 1],\n",
    "              [8, 1, 2, 2]])\n",
    "\n",
    "df = pd.DataFrame(A, columns=['f1', 'f2', 'f3', 'f4'])\n",
    "\n",
    "# standardizing the data\n",
    "df_std = (df - df.mean()) / (df.std())\n",
    "\n",
    "# expected components\n",
    "n_components = 2\n",
    "\n",
    "# create a pca instance\n",
    "pca = PCA(n_components=n_components)\n",
    "\n",
    "# obtain principal components\n",
    "principalComponents = pca.fit_transform(df_std)\n",
    "\n",
    "# project principal components onto original data\n",
    "principalDf = pd.DataFrame(data=principalComponents, columns=['nf'+str(i+1) for i in range(n_components)])\n",
    "\n",
    "print(principalDf)"
   ]
  },
  {
   "cell_type": "code",
   "execution_count": null,
   "id": "0aa06c56",
   "metadata": {},
   "outputs": [],
   "source": []
  }
 ],
 "metadata": {
  "kernelspec": {
   "display_name": "Python 3 (ipykernel)",
   "language": "python",
   "name": "python3"
  },
  "language_info": {
   "codemirror_mode": {
    "name": "ipython",
    "version": 3
   },
   "file_extension": ".py",
   "mimetype": "text/x-python",
   "name": "python",
   "nbconvert_exporter": "python",
   "pygments_lexer": "ipython3",
   "version": "3.11.0"
  }
 },
 "nbformat": 4,
 "nbformat_minor": 5
}
