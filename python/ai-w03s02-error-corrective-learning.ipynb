{
 "cells": [
  {
   "cell_type": "markdown",
   "id": "1f70092a",
   "metadata": {},
   "source": [
    "# Artificial neural network foundations"
   ]
  },
  {
   "cell_type": "markdown",
   "id": "624de74e",
   "metadata": {},
   "source": [
    "## Perceptron training using error-corrective learning"
   ]
  },
  {
   "cell_type": "code",
   "execution_count": 1,
   "id": "489692b6",
   "metadata": {},
   "outputs": [],
   "source": [
    "import numpy as np"
   ]
  },
  {
   "cell_type": "markdown",
   "id": "8b56f4ff",
   "metadata": {},
   "source": [
    "### Functional output of a perceptron\n",
    "$$y=\\sum{x_i.w_i}$$"
   ]
  },
  {
   "cell_type": "code",
   "execution_count": 2,
   "id": "4a573395",
   "metadata": {},
   "outputs": [],
   "source": [
    "# let's define some functions for perceptron operations\n",
    "\n",
    "# output function\n",
    "def functional_output(inputs, weights):    \n",
    "    return np.dot(inputs, weights)"
   ]
  },
  {
   "cell_type": "code",
   "execution_count": 3,
   "id": "855b5a0e",
   "metadata": {},
   "outputs": [
    {
     "data": {
      "text/plain": [
       "11"
      ]
     },
     "execution_count": 3,
     "metadata": {},
     "output_type": "execute_result"
    }
   ],
   "source": [
    "functional_output([1, 2], [3, 4])"
   ]
  },
  {
   "cell_type": "markdown",
   "id": "6f934321",
   "metadata": {},
   "source": [
    "### Threshold activation function\n",
    "$$f(y)=\\begin{cases} 1,&  \\text{if y} \\ge \\theta  \\\\ 0 , & \\text{otherwise} \\end{cases} $$\n"
   ]
  },
  {
   "cell_type": "code",
   "execution_count": 4,
   "id": "7a9f7f02",
   "metadata": {},
   "outputs": [],
   "source": [
    "# threshold activation function\n",
    "def activation_output(output, threshold):\n",
    "    if output >= threshold:\n",
    "        return 1\n",
    "    else:\n",
    "        return 0"
   ]
  },
  {
   "cell_type": "code",
   "execution_count": 5,
   "id": "74866373",
   "metadata": {},
   "outputs": [
    {
     "data": {
      "text/plain": [
       "1"
      ]
     },
     "execution_count": 5,
     "metadata": {},
     "output_type": "execute_result"
    }
   ],
   "source": [
    "activation_output(3, 1)"
   ]
  },
  {
   "cell_type": "markdown",
   "id": "448acb8d",
   "metadata": {},
   "source": [
    "### Error\n",
    "$$\\begin{align} e & = g-f  \\\\ \\text{where,  } &  \\text{g is expected value} \\\\ & \\text{f is threshold output} \\end{align}$$"
   ]
  },
  {
   "cell_type": "code",
   "execution_count": 6,
   "id": "30e6af64",
   "metadata": {},
   "outputs": [],
   "source": [
    "# error function\n",
    "\n",
    "def error(activation, expected):\n",
    "    \n",
    "    assert len(activation) == len(expected), 'Dimensions of parameter lists do not match!'\n",
    "    \n",
    "    return np.subtract(expected, activation)"
   ]
  },
  {
   "cell_type": "code",
   "execution_count": 7,
   "id": "31ce3b11",
   "metadata": {},
   "outputs": [
    {
     "data": {
      "text/plain": [
       "array([-1, -1])"
      ]
     },
     "execution_count": 7,
     "metadata": {},
     "output_type": "execute_result"
    }
   ],
   "source": [
    "error([3, 2], [2, 1])"
   ]
  },
  {
   "cell_type": "markdown",
   "id": "0ac6bd4c",
   "metadata": {},
   "source": [
    "### Learning new weights\n",
    "\n",
    "$$\\begin{align}\\delta{w} & =x.e.\\alpha \\\\ \\text{where, } & \\text{x is input} \\\\ & \\text{e is the error} \\\\ & \\alpha \\text{ is learning rate} \\end{align} $$\n",
    "\n",
    "The weight then shall be updated as\n",
    "$$w_t = w_{t-1} + \\delta{w}$$"
   ]
  },
  {
   "cell_type": "code",
   "execution_count": 20,
   "id": "af2fe43c",
   "metadata": {},
   "outputs": [],
   "source": [
    "# update weight\n",
    "def delta_weight(x, error, learning_rate):\n",
    "    return x * error * learning_rate"
   ]
  },
  {
   "cell_type": "code",
   "execution_count": 21,
   "id": "fa7424d1",
   "metadata": {},
   "outputs": [],
   "source": [
    "weight = delta_weight(1, 2, 1)"
   ]
  },
  {
   "cell_type": "markdown",
   "id": "f719d1b0",
   "metadata": {},
   "source": [
    "### Neural network "
   ]
  },
  {
   "cell_type": "code",
   "execution_count": 10,
   "id": "7e0808b8",
   "metadata": {},
   "outputs": [],
   "source": [
    "class SimpleNN:\n",
    "      \n",
    "    # A set of bias, x1, x2, class label\n",
    "    training_data = np.array([[-1, 1, 1, 1],\n",
    "                              [-1, 1, 0, 0],\n",
    "                              [-1, 0, 1, 0],\n",
    "                              [-1, 0, 0, 0]])\n",
    "\n",
    "    # a set of random weights\n",
    "    weights = np.array([0, 1, -1])\n",
    "\n",
    "    #learning rate\n",
    "    learning_rate = 1\n",
    "\n",
    "    # threshold \n",
    "    threshold = 1\n",
    "    \n",
    "    # splitting input and output from training data\n",
    "    input_data = training_data[:, [0, 1, 2]]\n",
    "\n",
    "    desired_output = training_data[:, [3]].T[0]"
   ]
  },
  {
   "cell_type": "code",
   "execution_count": 12,
   "id": "9beb2839",
   "metadata": {},
   "outputs": [
    {
     "name": "stdout",
     "output_type": "stream",
     "text": [
      "Training data [[-1  1  1  1]\n",
      " [-1  1  0  0]\n",
      " [-1  0  1  0]\n",
      " [-1  0  0  0]]\n",
      "Weights [ 0  1 -1]\n",
      "Learning rate:  1\n",
      "Threshold 1\n",
      "Input data [[-1  1  1]\n",
      " [-1  1  0]\n",
      " [-1  0  1]\n",
      " [-1  0  0]]\n",
      "Desired output [1 0 0 0]\n"
     ]
    }
   ],
   "source": [
    "snn = SimpleNN()\n",
    "\n",
    "print(\"Training data\", snn.training_data)\n",
    "print(\"Weights\", snn.weights)\n",
    "print(\"Learning rate: \", snn.learning_rate)\n",
    "print(\"Threshold\", snn.threshold)\n",
    "print(\"Input data\", snn.input_data)\n",
    "print(\"Desired output\", snn.desired_output)"
   ]
  },
  {
   "cell_type": "code",
   "execution_count": 14,
   "id": "a569bf87",
   "metadata": {},
   "outputs": [
    {
     "name": "stdout",
     "output_type": "stream",
     "text": [
      "[ 0  1 -1  0]\n"
     ]
    }
   ],
   "source": [
    "# A simple feed forward mechanism\n",
    "\n",
    "y = np.array(functional_output(snn.input_data, snn.weights))\n",
    "\n",
    "print(y)"
   ]
  },
  {
   "cell_type": "code",
   "execution_count": 15,
   "id": "695a517f",
   "metadata": {},
   "outputs": [
    {
     "name": "stdout",
     "output_type": "stream",
     "text": [
      "[0 1 0 0]\n"
     ]
    }
   ],
   "source": [
    "# activation output\n",
    "fy = np.array([activation_output(o, snn.threshold) for o in y])\n",
    "\n",
    "print(fy)"
   ]
  },
  {
   "cell_type": "code",
   "execution_count": 16,
   "id": "989557b9",
   "metadata": {},
   "outputs": [
    {
     "name": "stdout",
     "output_type": "stream",
     "text": [
      "[ 1 -1  0  0]\n"
     ]
    }
   ],
   "source": [
    "# training cycle\n",
    "\n",
    "err = error(fy, snn.desired_output)\n",
    "\n",
    "print(err)"
   ]
  },
  {
   "cell_type": "code",
   "execution_count": 34,
   "id": "438ad101",
   "metadata": {},
   "outputs": [
    {
     "name": "stdout",
     "output_type": "stream",
     "text": [
      "Epoch 1\n",
      "weights          input       desired_output         actual_output   error     action\n",
      "[ 0  1 -1] \t [-1  1  1] \t 1 \t\t\t 0 \t\t 1 \t update weight\n",
      "[-1  2  0] \t [-1  1  0] \t 0 \t\t\t 1 \t\t -1 \t update weight\n",
      "[0 1 0] \t [-1  0  1] \t 0 \t\t\t 0 \t\t 0 \t no change\n",
      "[0 1 0] \t [-1  0  0] \t 0 \t\t\t 0 \t\t 0 \t no change\n",
      "Epoch 2\n",
      "weights          input       desired_output         actual_output   error     action\n",
      "[0 1 0] \t [-1  1  1] \t 1 \t\t\t 1 \t\t 0 \t no change\n",
      "[0 1 0] \t [-1  1  0] \t 0 \t\t\t 1 \t\t -1 \t update weight\n",
      "[1 0 0] \t [-1  0  1] \t 0 \t\t\t 0 \t\t 0 \t no change\n",
      "[1 0 0] \t [-1  0  0] \t 0 \t\t\t 0 \t\t 0 \t no change\n",
      "Epoch 3\n",
      "weights          input       desired_output         actual_output   error     action\n",
      "[1 0 0] \t [-1  1  1] \t 1 \t\t\t 0 \t\t 1 \t update weight\n",
      "[0 1 1] \t [-1  1  0] \t 0 \t\t\t 1 \t\t -1 \t update weight\n",
      "[1 0 1] \t [-1  0  1] \t 0 \t\t\t 0 \t\t 0 \t no change\n",
      "[1 0 1] \t [-1  0  0] \t 0 \t\t\t 0 \t\t 0 \t no change\n",
      "Epoch 4\n",
      "weights          input       desired_output         actual_output   error     action\n",
      "[1 0 1] \t [-1  1  1] \t 1 \t\t\t 0 \t\t 1 \t update weight\n",
      "[0 1 2] \t [-1  1  0] \t 0 \t\t\t 1 \t\t -1 \t update weight\n",
      "[1 0 2] \t [-1  0  1] \t 0 \t\t\t 1 \t\t -1 \t update weight\n",
      "[2 0 1] \t [-1  0  0] \t 0 \t\t\t 0 \t\t 0 \t no change\n",
      "Epoch 5\n",
      "weights          input       desired_output         actual_output   error     action\n",
      "[2 0 1] \t [-1  1  1] \t 1 \t\t\t 0 \t\t 1 \t update weight\n",
      "[1 1 2] \t [-1  1  0] \t 0 \t\t\t 0 \t\t 0 \t no change\n",
      "[1 1 2] \t [-1  0  1] \t 0 \t\t\t 1 \t\t -1 \t update weight\n",
      "[2 1 1] \t [-1  0  0] \t 0 \t\t\t 0 \t\t 0 \t no change\n",
      "Epoch 6\n",
      "weights          input       desired_output         actual_output   error     action\n",
      "[2 1 1] \t [-1  1  1] \t 1 \t\t\t 0 \t\t 1 \t update weight\n",
      "[1 2 2] \t [-1  1  0] \t 0 \t\t\t 1 \t\t -1 \t update weight\n",
      "[2 1 2] \t [-1  0  1] \t 0 \t\t\t 0 \t\t 0 \t no change\n",
      "[2 1 2] \t [-1  0  0] \t 0 \t\t\t 0 \t\t 0 \t no change\n",
      "The final result and outcomes\n",
      "[2 1 2] \t [-1  1  1] \t 1 \t\t\t 1 \t\t 0 \t no change\n",
      "[2 1 2] \t [-1  1  0] \t 0 \t\t\t 0 \t\t 0 \t no change\n",
      "[2 1 2] \t [-1  0  1] \t 0 \t\t\t 0 \t\t 0 \t no change\n",
      "[2 1 2] \t [-1  0  0] \t 0 \t\t\t 0 \t\t 0 \t no change\n"
     ]
    }
   ],
   "source": [
    "# preparing initial data for training\n",
    "w = snn.weights\n",
    "\n",
    "counter = 0\n",
    "epoch = 1\n",
    "\n",
    "# if output equals desired output, no need to train\n",
    "while not np.array_equal(snn.desired_output, fy):\n",
    "   \n",
    "    print(\"Epoch\", epoch)    \n",
    "    print(\"weights          input       desired_output         actual_output   error     action\")\n",
    "    \n",
    "    # in each epoch, iterate through all training data\n",
    "    for x in snn.input_data:\n",
    "        \n",
    "        # feed-forward \n",
    "        y = np.array(functional_output(snn.input_data, w))\n",
    "        \n",
    "        fy = np.array([activation_output(o, snn.threshold) for o in y])\n",
    "        \n",
    "        err = error(fy, snn.desired_output)\n",
    "        \n",
    "        # check error for current iteration i.e. current set of inputs. \n",
    "        # Current set of inputs can be located by using index of current set i.e. counter % 4 since there are 4 sample data\n",
    "        \n",
    "        # If error is 0 then do nothing, iterate over\n",
    "        if err[counter%4] == 0:\n",
    "            print(w, \"\\t\", x, \"\\t\", snn.desired_output[counter%4], \"\\t\\t\\t\", fy[counter%4], \n",
    "                  \"\\t\\t\", err[counter%4], \"\\t no change\")\n",
    "        else:\n",
    "            # if there is some error, then update the weight\n",
    "            print(w, \"\\t\", x, \"\\t\", snn.desired_output[counter%4], \"\\t\\t\\t\", fy[counter%4], \n",
    "                  \"\\t\\t\", err[counter%4], \"\\t update weight\") \n",
    "            w = w + delta_weight(err[counter%4], snn.learning_rate, snn.input_data[counter%4])\n",
    "                               \n",
    "        counter +=1 \n",
    "    \n",
    "    epoch += 1\n",
    "\n",
    "# after finishing the training, let's feed-forward once and see the results\n",
    "print(\"The final result and outcomes\")\n",
    "iter = 0\n",
    "for x in snn.input_data:\n",
    "        y = np.array(functional_output(snn.input_data, w))        \n",
    "        fy = np.array([activation_output(o, snn.threshold) for o in y])        \n",
    "        err = error(fy, snn.desired_output)\n",
    "        \n",
    "        if err[iter] == 0:\n",
    "            print(w, \"\\t\", x, \"\\t\", snn.desired_output[iter], \"\\t\\t\\t\", fy[iter], \n",
    "                  \"\\t\\t\", err[iter], \"\\t no change\")\n",
    "        else:\n",
    "            print(w, \"\\t\", x, \"\\t\", snn.desired_output[iter], \"\\t\\t\\t\", fy[iter], \n",
    "                  \"\\t\\t\", err[iter], \"\\t update weight\") \n",
    "            w = w + update_weights(err[iter], snn.learning_rate, snn.input_data[iter])            \n",
    "                   \n",
    "        iter +=1         "
   ]
  }
 ],
 "metadata": {
  "kernelspec": {
   "display_name": "Python 3 (ipykernel)",
   "language": "python",
   "name": "python3"
  },
  "language_info": {
   "codemirror_mode": {
    "name": "ipython",
    "version": 3
   },
   "file_extension": ".py",
   "mimetype": "text/x-python",
   "name": "python",
   "nbconvert_exporter": "python",
   "pygments_lexer": "ipython3",
   "version": "3.11.0"
  }
 },
 "nbformat": 4,
 "nbformat_minor": 5
}
