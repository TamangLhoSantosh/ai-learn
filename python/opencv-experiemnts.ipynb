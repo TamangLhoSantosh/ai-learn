{
 "cells": [
  {
   "cell_type": "markdown",
   "id": "3efa6602",
   "metadata": {},
   "source": [
    "# OpenCV experiments"
   ]
  },
  {
   "cell_type": "code",
   "execution_count": null,
   "id": "25184326",
   "metadata": {},
   "outputs": [],
   "source": [
    "import cv2\n",
    "import numpy as np"
   ]
  },
  {
   "cell_type": "code",
   "execution_count": 9,
   "id": "a9632534",
   "metadata": {},
   "outputs": [],
   "source": [
    "# Capturing live image from webcam\n",
    "  \n",
    "cap = cv2.VideoCapture(0)\n",
    "\n",
    "while True:\n",
    "    ret, frame = cap.read()\n",
    "    cv2.imshow(\"Display\", frame)\n",
    "    # plt.imshow(\"Display\", frame)\n",
    "    key = cv2.waitKey(1)\n",
    "    if key == 27:  # 27 is ASCII value of ESC key\n",
    "        break\n",
    "cap.release()\n",
    "cv2.destroyAllWindows()"
   ]
  },
  {
   "cell_type": "code",
   "execution_count": 11,
   "id": "377a3894",
   "metadata": {},
   "outputs": [],
   "source": [
    "# loading image from a file\n",
    "\n",
    "image = cv2.imread(\"sample.png\")\n",
    "\n",
    "while True:\n",
    "    cv2.imshow(\"Image\", image)\n",
    "  \n",
    "    key = cv2.waitKey(1)\n",
    "    if key == 27:\n",
    "        break\n",
    "cv2.destroyAllWindows()\n"
   ]
  },
  {
   "cell_type": "code",
   "execution_count": 10,
   "id": "200e5620",
   "metadata": {},
   "outputs": [],
   "source": [
    "# Manipulating image and generating different derivations\n",
    "\n",
    "image = cv2.imread(\"sample.png\")\n",
    "gray = cv2.cvtColor(image, cv2.COLOR_BGR2GRAY)\n",
    "gray = cv2.medianBlur(gray, 5)\n",
    "edges = cv2.adaptiveThreshold(gray, 255, cv2.ADAPTIVE_THRESH_MEAN_C, cv2.THRESH_BINARY, 9, 9)\n",
    "\n",
    "color = cv2.bilateralFilter(image, 9, 250, 250)\n",
    "cartoon = cv2.bitwise_and(color, color, mask=edges)\n",
    "\n",
    "while True:\n",
    "    cv2.imshow(\"Original\", image)\n",
    "    cv2.imshow(\"Gray blurred\", gray)\n",
    "    cv2.imshow(\"Edges\", edges)\n",
    "    cv2.imshow(\"Cartoon\", cartoon)\n",
    "\n",
    "\n",
    "    key = cv2.waitKey(1)\n",
    "    if key == 27:\n",
    "        break\n",
    "cv2.destroyAllWindows()"
   ]
  },
  {
   "cell_type": "code",
   "execution_count": 6,
   "id": "fd965ceb",
   "metadata": {},
   "outputs": [],
   "source": [
    "# Manipulating image and generating different derivations\n",
    "\n",
    "cap = cv2.VideoCapture(0)\n",
    "\n",
    "while True:\n",
    "    _, frame = cap.read()\n",
    "    gray = cv2.cvtColor(frame, cv2.COLOR_BGR2GRAY)\n",
    "    gray = cv2.medianBlur(gray, 5)\n",
    "    edges = cv2.adaptiveThreshold(gray, 255, cv2.ADAPTIVE_THRESH_MEAN_C, cv2.THRESH_BINARY, 25, 25)\n",
    "    \n",
    "    color = cv2.bilateralFilter(frame, 25, 250, 250)\n",
    "    cartoon = cv2.bitwise_and(color, color, mask=edges)\n",
    "    \n",
    "    cv2.imshow(\"Original\", frame)\n",
    "    cv2.imshow(\"Gray blurred\", gray)\n",
    "    cv2.imshow(\"Edges\", edges)\n",
    "    cv2.imshow(\"Cartoon\", cartoon)\n",
    "  \n",
    "    \n",
    "    key = cv2.waitKey(1)\n",
    "    if key == 27:\n",
    "        break\n",
    "cap.release()\n",
    "cv2.destroyAllWindows()"
   ]
  },
  {
   "cell_type": "code",
   "execution_count": null,
   "id": "836c2097",
   "metadata": {},
   "outputs": [],
   "source": []
  }
 ],
 "metadata": {
  "kernelspec": {
   "display_name": "Python 3 (ipykernel)",
   "language": "python",
   "name": "python3"
  },
  "language_info": {
   "codemirror_mode": {
    "name": "ipython",
    "version": 3
   },
   "file_extension": ".py",
   "mimetype": "text/x-python",
   "name": "python",
   "nbconvert_exporter": "python",
   "pygments_lexer": "ipython3",
   "version": "3.11.0"
  }
 },
 "nbformat": 4,
 "nbformat_minor": 5
}
