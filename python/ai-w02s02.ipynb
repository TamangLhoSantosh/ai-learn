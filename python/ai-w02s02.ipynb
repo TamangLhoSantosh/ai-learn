{
 "cells": [
  {
   "cell_type": "markdown",
   "id": "e7ff7a10",
   "metadata": {},
   "source": [
    "# Matrix operations for image processing"
   ]
  },
  {
   "cell_type": "code",
   "execution_count": 1,
   "id": "b3125e38",
   "metadata": {},
   "outputs": [],
   "source": [
    "import cv2"
   ]
  },
  {
   "cell_type": "code",
   "execution_count": 2,
   "id": "7c34e99d",
   "metadata": {},
   "outputs": [
    {
     "name": "stdout",
     "output_type": "stream",
     "text": [
      "[[[187 181 176]\n",
      "  [187 181 176]\n",
      "  [187 181 176]\n",
      "  ...\n",
      "  [193 173 162]\n",
      "  [185 167 156]\n",
      "  [154 136 125]]\n",
      "\n",
      " [[187 181 176]\n",
      "  [187 181 176]\n",
      "  [187 181 176]\n",
      "  ...\n",
      "  [188 170 159]\n",
      "  [115  96  88]\n",
      "  [ 40  24  12]]\n",
      "\n",
      " [[186 180 175]\n",
      "  [186 180 175]\n",
      "  [186 180 175]\n",
      "  ...\n",
      "  [111  92  84]\n",
      "  [ 52  34  27]\n",
      "  [ 35  20  11]]\n",
      "\n",
      " ...\n",
      "\n",
      " [[ 90  91  89]\n",
      "  [ 97  98  96]\n",
      "  [104 105 103]\n",
      "  ...\n",
      "  [ 33  43  50]\n",
      "  [ 33  43  50]\n",
      "  [ 33  43  50]]\n",
      "\n",
      " [[ 85  86  84]\n",
      "  [ 85  86  84]\n",
      "  [ 82  83  81]\n",
      "  ...\n",
      "  [ 34  45  49]\n",
      "  [ 34  45  49]\n",
      "  [ 36  47  51]]\n",
      "\n",
      " [[ 99 100  98]\n",
      "  [ 96  97  95]\n",
      "  [ 90  91  89]\n",
      "  ...\n",
      "  [ 34  45  49]\n",
      "  [ 34  45  49]\n",
      "  [ 36  47  51]]]\n",
      "Size of the image:  474 640\n"
     ]
    }
   ],
   "source": [
    "image = cv2.imread(\"sample.jpg\")\n",
    "print(image)\n",
    "print(\"Size of the image: \", len(image), len(image[0]))"
   ]
  },
  {
   "cell_type": "code",
   "execution_count": 3,
   "id": "29ffd2f9",
   "metadata": {},
   "outputs": [
    {
     "name": "stdout",
     "output_type": "stream",
     "text": [
      "[[180 180 180 ... 172 166 135]\n",
      " [180 180 180 ... 169  96  22]\n",
      " [179 179 179 ...  92  34  19]\n",
      " ...\n",
      " [ 90  97 104 ...  44  44  44]\n",
      " [ 85  85  82 ...  45  45  47]\n",
      " [ 99  96  90 ...  45  45  47]]\n"
     ]
    }
   ],
   "source": [
    "gray = cv2.cvtColor(image, cv2.COLOR_BGR2GRAY)\n",
    "print(gray)\n",
    "\n",
    "while True:\n",
    "    cv2.imshow(\"Original\", image)\n",
    "    cv2.imshow(\"Gray\", gray)\n",
    " \n",
    "    key = cv2.waitKey(1)\n",
    "    if key == 27:\n",
    "        break\n",
    "cv2.destroyAllWindows()"
   ]
  },
  {
   "cell_type": "code",
   "execution_count": 5,
   "id": "bbad9dd0",
   "metadata": {},
   "outputs": [
    {
     "name": "stdout",
     "output_type": "stream",
     "text": [
      "[[  0   0   0 ...  29  95  82]\n",
      " [  1   1   1 ... 217 249  72]\n",
      " [255 255 255 ... 132 105 224]\n",
      " ...\n",
      " [248  10  33 ... 254 254 253]\n",
      " [237 236 223 ... 254 255   5]\n",
      " [ 17  14   7 ... 253 254   2]]\n"
     ]
    }
   ],
   "source": [
    "from scipy.ndimage import convolve\n",
    "\n",
    "# let's calculate convolution using kernel\n",
    "\n",
    "# identity\n",
    "kernel = [[0, 0, 0], [0, 1, 0], [0, 0, 0]]\n",
    "\n",
    "# edge detection kernel\n",
    "kernel = [[0, -1, 0], [-1, 4, -1], [0, -1, 0]]\n",
    "# or\n",
    "#kernel = [[-1, -1, -1], [-1, 8, -1], [-1, -1, -1]]\n",
    "\n",
    "# sharpen kernel\n",
    "#kernel = [[0, -1, 0], [-1, 5, -1], [0, -1, 0]]\n",
    "\n",
    "conv = convolve(gray, kernel)\n",
    "print(conv)\n",
    "\n",
    "while True:\n",
    "    cv2.imshow(\"Original\", image)\n",
    "    cv2.imshow(\"Gray\", gray)\n",
    "    cv2.imshow(\"Convolution\", conv)\n",
    " \n",
    "    key = cv2.waitKey(1)\n",
    "    if key == 27:\n",
    "        break\n",
    "cv2.destroyAllWindows()"
   ]
  },
  {
   "cell_type": "code",
   "execution_count": 6,
   "id": "1f9de614",
   "metadata": {},
   "outputs": [],
   "source": [
    "# more advanced filters\n",
    "\n",
    "import numpy as np\n",
    "\n",
    "# sobel x\n",
    "kernel_sobelx = [[-1, 0, 1], [-2, 0, 2], [-1, 0, +1]]\n",
    "kernel_sobely = [[1, 2, 1], [0, 0, 0], [-1, -2, -1]]\n",
    "\n",
    "convx = convolve(gray, kernel_sobelx)\n",
    "convy = convolve(gray, kernel_sobely)\n",
    "\n",
    "convx2 = [x**2 for x in convx]\n",
    "convy2 = [y**2 for y in convy]\n",
    "\n",
    "sobel = np.sqrt(convx2 + convy2)\n",
    "\n",
    "sobel_uint8 = np.asarray(sobel, dtype=np.uint8)\n",
    "\n",
    "while True:\n",
    "    cv2.imshow(\"Original\", image)\n",
    "    cv2.imshow(\"Gray\", gray)\n",
    "    cv2.imshow(\"Convolution X\", convx)\n",
    "    cv2.imshow(\"Convolution Y\", convy)\n",
    "    cv2.imshow(\"Sobel\", sobel_uint8)\n",
    " \n",
    "    key = cv2.waitKey(1)\n",
    "    if key == 27:\n",
    "        break\n",
    "cv2.destroyAllWindows()"
   ]
  },
  {
   "cell_type": "code",
   "execution_count": null,
   "id": "d8273e75",
   "metadata": {},
   "outputs": [],
   "source": [
    "def CannyThreshold(val):\n",
    "    low_threshold = val\n",
    "    img_blur = cv.blur(src_gray, (3,3))\n",
    "    detected_edges = cv.Canny(img_blur, low_threshold, low_threshold*ratio, kernel_size)\n",
    "    mask = detected_edges != 0\n",
    "    dst = src * (mask[:,:,None].astype(src.dtype))\n",
    "    cv.imshow(window_name, dst)"
   ]
  }
 ],
 "metadata": {
  "kernelspec": {
   "display_name": "Python 3 (ipykernel)",
   "language": "python",
   "name": "python3"
  },
  "language_info": {
   "codemirror_mode": {
    "name": "ipython",
    "version": 3
   },
   "file_extension": ".py",
   "mimetype": "text/x-python",
   "name": "python",
   "nbconvert_exporter": "python",
   "pygments_lexer": "ipython3",
   "version": "3.11.0"
  }
 },
 "nbformat": 4,
 "nbformat_minor": 5
}
