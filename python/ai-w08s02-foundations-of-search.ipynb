{
 "cells": [
  {
   "cell_type": "markdown",
   "id": "5413ed86",
   "metadata": {},
   "source": [
    "# Foundations of AI search algorithms"
   ]
  },
  {
   "cell_type": "markdown",
   "id": "67f9a8d4",
   "metadata": {},
   "source": [
    "## Basic data structure: Stack"
   ]
  },
  {
   "cell_type": "code",
   "execution_count": 115,
   "id": "7ea94bd4",
   "metadata": {},
   "outputs": [],
   "source": [
    "class Stack:\n",
    "    \n",
    "    def __init__(self):\n",
    "        self.stack = []\n",
    "    \n",
    "    def isEmpty(self):\n",
    "        if len(self.stack) <= 0:\n",
    "            return True\n",
    "        else:\n",
    "            return False\n",
    "    \n",
    "    def push(self, element):\n",
    "        self.stack.append(element)\n",
    "    \n",
    "    def pop(self):\n",
    "        return self.stack.pop()   "
   ]
  },
  {
   "cell_type": "code",
   "execution_count": 116,
   "id": "5b340403",
   "metadata": {},
   "outputs": [],
   "source": [
    "s = Stack()\n",
    "\n",
    "s.push(1)\n",
    "s.push(3)\n",
    "s.push(10)\n",
    "s.push(9)"
   ]
  },
  {
   "cell_type": "code",
   "execution_count": 119,
   "id": "195b1441",
   "metadata": {},
   "outputs": [
    {
     "name": "stdout",
     "output_type": "stream",
     "text": [
      "[1, 3, 10]\n"
     ]
    }
   ],
   "source": [
    "print(s.stack)"
   ]
  },
  {
   "cell_type": "code",
   "execution_count": 118,
   "id": "6d6b302f",
   "metadata": {},
   "outputs": [
    {
     "data": {
      "text/plain": [
       "9"
      ]
     },
     "execution_count": 118,
     "metadata": {},
     "output_type": "execute_result"
    }
   ],
   "source": [
    "s.pop()"
   ]
  },
  {
   "cell_type": "markdown",
   "id": "e4001e51",
   "metadata": {},
   "source": [
    "## Basic data structure: Queue"
   ]
  },
  {
   "cell_type": "code",
   "execution_count": 120,
   "id": "d4538d98",
   "metadata": {},
   "outputs": [],
   "source": [
    "class Queue:\n",
    "    \n",
    "    def __init__(self):\n",
    "        self.queue = []\n",
    "    \n",
    "    def isEmpty(self):\n",
    "        if len(self.queue) <= 0:\n",
    "            return True\n",
    "        else:\n",
    "            return False\n",
    "    \n",
    "    def enqueue(self, element):\n",
    "        self.queue.append(element)\n",
    "    \n",
    "    def dequeue(self):\n",
    "        element = self.queue[0:1]  \n",
    "        del self.queue[0]\n",
    "        return  element"
   ]
  },
  {
   "cell_type": "code",
   "execution_count": 121,
   "id": "f7060762",
   "metadata": {},
   "outputs": [],
   "source": [
    "q = Queue()\n",
    "q.enqueue(8)\n",
    "q.enqueue(6)\n",
    "q.enqueue(5)\n",
    "q.enqueue(7)\n",
    "q.enqueue(1)\n",
    "q.enqueue(2)"
   ]
  },
  {
   "cell_type": "code",
   "execution_count": 124,
   "id": "9f3d45a6",
   "metadata": {},
   "outputs": [
    {
     "name": "stdout",
     "output_type": "stream",
     "text": [
      "[6, 5, 7, 1, 2]\n"
     ]
    }
   ],
   "source": [
    "print(q.queue)"
   ]
  },
  {
   "cell_type": "code",
   "execution_count": 123,
   "id": "a23271ec",
   "metadata": {},
   "outputs": [
    {
     "data": {
      "text/plain": [
       "[8]"
      ]
     },
     "execution_count": 123,
     "metadata": {},
     "output_type": "execute_result"
    }
   ],
   "source": [
    "q.dequeue()"
   ]
  },
  {
   "cell_type": "markdown",
   "id": "ae05d596",
   "metadata": {},
   "source": [
    "## Basic data structure: Graph"
   ]
  },
  {
   "cell_type": "code",
   "execution_count": 109,
   "id": "7325ca00",
   "metadata": {},
   "outputs": [],
   "source": [
    "import numpy as np\n",
    "import networkx as nx\n",
    "from matplotlib import pyplot as plt\n",
    "\n",
    "class Graph:\n",
    "    def __init__(self, maxNodes):\n",
    "        self.maxNodex = maxNodes\n",
    "        self.nodes = []\n",
    "        self.edges = np.array([[0] * maxNodes] * maxNodes)\n",
    "    \n",
    "    def addNode(self, node):\n",
    "        if len(self.nodes) >= 5:\n",
    "            print('Max no. of nodes reached.')\n",
    "        else:\n",
    "            self.nodes.append(node)\n",
    "        \n",
    "    def addEdge(self, frm, to, weight):      \n",
    "        fromIndex = self.nodes.index(frm)\n",
    "        toIndex = self.nodes.index(to)\n",
    "        \n",
    "        self.edges[fromIndex][toIndex] = weight\n",
    "    \n",
    "    def successor(self, frm):\n",
    "        succ = []\n",
    "        \n",
    "        fromIndex = self.nodes.index(frm)\n",
    "        \n",
    "        for idx, value in np.ndenumerate(self.edges[fromIndex]):\n",
    "            if value > 0:\n",
    "                succ.append(self.nodes[idx[0]])\n",
    "        return succ\n",
    "    \n",
    "    def predecessor(self, to):\n",
    "        pred = []\n",
    "        \n",
    "        toIndex = self.nodes.index(to)\n",
    "        \n",
    "        for idx, value in np.ndenumerate(self.edges[:,toIndex]):\n",
    "            if value > 0:\n",
    "                pred.append(self.nodes[idx[0]])\n",
    "        return pred\n",
    "    \n",
    "    # Reference: \n",
    "    # https://networkx.org/documentation/stable/auto_examples/drawing/plot_weighted_graph.html\n",
    "    def plotGraph(self):\n",
    "        g = nx.DiGraph()\n",
    "        for frmNode in self.nodes:\n",
    "            frmIdx = self.nodes.index(frmNode)\n",
    "            for toNode in self.nodes:                \n",
    "                toIdx = self.nodes.index(toNode)\n",
    "                if self.edges[frmIdx][toIdx] > 0:\n",
    "                    g.add_edge(frmNode, \n",
    "                               toNode, \n",
    "                               weight = self.edges[frmIdx][toIdx])\n",
    "        \n",
    "        pos = nx.spring_layout(g)  # positions for all nodes\n",
    "\n",
    "        # nodes\n",
    "        nx.draw_networkx_nodes(g, \n",
    "                               pos, \n",
    "                               node_size=700)\n",
    "\n",
    "        # edges\n",
    "        nx.draw_networkx_edges(g, \n",
    "                               pos, \n",
    "                               width=3,\n",
    "                               connectionstyle='arc3, rad = 0.1')\n",
    "\n",
    "        # node labels\n",
    "        nx.draw_networkx_labels(g, \n",
    "                                pos, \n",
    "                                font_size=20, \n",
    "                                font_family=\"sans-serif\")\n",
    "        # edge weight labels\n",
    "        edge_labels = nx.get_edge_attributes(g, \"weight\")\n",
    "        nx.draw_networkx_edge_labels(g, \n",
    "                                     pos, \n",
    "                                     edge_labels)\n",
    "\n",
    "        ax = plt.gca()\n",
    "        ax.margins(0.08)\n",
    "        plt.axis(\"off\")\n",
    "        plt.tight_layout()\n",
    "        plt.show()\n",
    "        "
   ]
  },
  {
   "cell_type": "code",
   "execution_count": 110,
   "id": "d386b8db",
   "metadata": {},
   "outputs": [],
   "source": [
    "g = Graph(5)\n",
    "g.addNode('a')\n",
    "g.addNode('b')\n",
    "g.addNode('c')\n",
    "g.addNode('d')\n",
    "g.addNode('e')"
   ]
  },
  {
   "cell_type": "code",
   "execution_count": 113,
   "id": "f69709bd",
   "metadata": {},
   "outputs": [
    {
     "name": "stdout",
     "output_type": "stream",
     "text": [
      "['a', 'b', 'c', 'd', 'e']\n",
      "[[0 0 4 5 0]\n",
      " [0 0 3 0 0]\n",
      " [3 0 0 2 1]\n",
      " [0 0 0 0 1]\n",
      " [0 5 0 0 0]]\n"
     ]
    }
   ],
   "source": [
    "print(g.nodes)\n",
    "print(g.edges)"
   ]
  },
  {
   "cell_type": "code",
   "execution_count": 112,
   "id": "86f4668f",
   "metadata": {},
   "outputs": [],
   "source": [
    "g.addEdge('a', 'd', 5)\n",
    "g.addEdge('a', 'c', 4)\n",
    "g.addEdge('b', 'c', 3)\n",
    "g.addEdge('c', 'a', 3)\n",
    "g.addEdge('c', 'e', 1)\n",
    "g.addEdge('c', 'd', 2)\n",
    "g.addEdge('d', 'e', 1)\n",
    "g.addEdge('e', 'b', 5)"
   ]
  },
  {
   "cell_type": "code",
   "execution_count": 55,
   "id": "bcbb251d",
   "metadata": {},
   "outputs": [
    {
     "data": {
      "text/plain": [
       "['d', 'e']"
      ]
     },
     "execution_count": 55,
     "metadata": {},
     "output_type": "execute_result"
    }
   ],
   "source": [
    "g.successor('c')"
   ]
  },
  {
   "cell_type": "code",
   "execution_count": 56,
   "id": "9b081dec",
   "metadata": {},
   "outputs": [
    {
     "data": {
      "text/plain": [
       "['a', 'b']"
      ]
     },
     "execution_count": 56,
     "metadata": {},
     "output_type": "execute_result"
    }
   ],
   "source": [
    "g.predecessor('c')"
   ]
  },
  {
   "cell_type": "code",
   "execution_count": 114,
   "id": "14d3db56",
   "metadata": {},
   "outputs": [
    {
     "data": {
      "image/png": "[encoded data removed]",
      "text/plain": [
       "<Figure size 640x480 with 1 Axes>"
      ]
     },
     "metadata": {},
     "output_type": "display_data"
    }
   ],
   "source": [
    "g.plotGraph()"
   ]
  },
  {
   "cell_type": "code",
   "execution_count": null,
   "id": "d6188fd1",
   "metadata": {},
   "outputs": [],
   "source": []
  }
 ],
 "metadata": {
  "kernelspec": {
   "display_name": "Python 3 (ipykernel)",
   "language": "python",
   "name": "python3"
  },
  "language_info": {
   "codemirror_mode": {
    "name": "ipython",
    "version": 3
   },
   "file_extension": ".py",
   "mimetype": "text/x-python",
   "name": "python",
   "nbconvert_exporter": "python",
   "pygments_lexer": "ipython3",
   "version": "3.11.0"
  }
 },
 "nbformat": 4,
 "nbformat_minor": 5
}
