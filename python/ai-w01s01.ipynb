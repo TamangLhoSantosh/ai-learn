{
 "cells": [
  {
   "cell_type": "markdown",
   "id": "09d6ca9b",
   "metadata": {},
   "source": [
    "# AI Lab 01\n",
    "Date: Jan 19, 2023"
   ]
  },
  {
   "cell_type": "markdown",
   "id": "edbb44cf",
   "metadata": {},
   "source": [
    "### Lambda functions\n",
    "\n",
    "Lambda functions are minimal functions.\n",
    "\n",
    "$\\lambda$\n",
    "\n",
    "$$x = mx + c$$"
   ]
  },
  {
   "cell_type": "markdown",
   "id": "5998bf2f",
   "metadata": {},
   "source": [
    "## Set operations"
   ]
  },
  {
   "cell_type": "code",
   "execution_count": 1,
   "id": "60438954",
   "metadata": {},
   "outputs": [
    {
     "name": "stdout",
     "output_type": "stream",
     "text": [
      "{1, 2, (3, 4)}\n"
     ]
    }
   ],
   "source": [
    "s1 = {1, 2, (3, 4)}\n",
    "\n",
    "print(s1)"
   ]
  },
  {
   "cell_type": "code",
   "execution_count": 2,
   "id": "62325b30",
   "metadata": {},
   "outputs": [
    {
     "name": "stdout",
     "output_type": "stream",
     "text": [
      "{1, 2, (3, 4), 6}\n"
     ]
    }
   ],
   "source": [
    "# adding elements into the set\n",
    "s1.add(6)\n",
    "\n",
    "print(s1)"
   ]
  },
  {
   "cell_type": "code",
   "execution_count": 3,
   "id": "6dc5b5c4",
   "metadata": {},
   "outputs": [
    {
     "name": "stdout",
     "output_type": "stream",
     "text": [
      "{1, 2, (3, 4), 6}\n"
     ]
    }
   ],
   "source": [
    "s1.add(2)\n",
    "\n",
    "print(s1)"
   ]
  },
  {
   "cell_type": "code",
   "execution_count": 4,
   "id": "236d04b7",
   "metadata": {},
   "outputs": [
    {
     "name": "stdout",
     "output_type": "stream",
     "text": [
      "{1, 2, (3, 4), 6, 7, 8, 9}\n"
     ]
    }
   ],
   "source": [
    "s1.update([7, 8, 9])\n",
    "\n",
    "print(s1)"
   ]
  },
  {
   "cell_type": "code",
   "execution_count": 5,
   "id": "92c9f5eb",
   "metadata": {},
   "outputs": [
    {
     "name": "stdout",
     "output_type": "stream",
     "text": [
      "{1, 2, (3, 4), 6, 7, 9}\n"
     ]
    }
   ],
   "source": [
    "# removing element\n",
    "\n",
    "s1.remove(8)\n",
    "\n",
    "print(s1)"
   ]
  },
  {
   "cell_type": "code",
   "execution_count": 6,
   "id": "5b76050b",
   "metadata": {},
   "outputs": [
    {
     "ename": "KeyError",
     "evalue": "8",
     "output_type": "error",
     "traceback": [
      "\u001b[1;31m---------------------------------------------------------------------------\u001b[0m",
      "\u001b[1;31mKeyError\u001b[0m                                  Traceback (most recent call last)",
      "Cell \u001b[1;32mIn [6], line 1\u001b[0m\n\u001b[1;32m----> 1\u001b[0m \u001b[43ms1\u001b[49m\u001b[38;5;241;43m.\u001b[39;49m\u001b[43mremove\u001b[49m\u001b[43m(\u001b[49m\u001b[38;5;241;43m8\u001b[39;49m\u001b[43m)\u001b[49m\n",
      "\u001b[1;31mKeyError\u001b[0m: 8"
     ]
    }
   ],
   "source": [
    "s1.remove(8)"
   ]
  },
  {
   "cell_type": "code",
   "execution_count": 7,
   "id": "b26b3271",
   "metadata": {},
   "outputs": [
    {
     "name": "stdout",
     "output_type": "stream",
     "text": [
      "{1, 2, 10, 9}\n"
     ]
    }
   ],
   "source": [
    "s2 = {1, 2, 9, 10}\n",
    "\n",
    "print(s2)"
   ]
  },
  {
   "cell_type": "markdown",
   "id": "5db6eec7",
   "metadata": {},
   "source": [
    "Set union and intersection\n",
    "\n",
    "$$s3=s1 \\union s2$$"
   ]
  },
  {
   "cell_type": "code",
   "execution_count": null,
   "id": "64bb0183",
   "metadata": {},
   "outputs": [],
   "source": [
    "# union of sets\n",
    "\n",
    "s1 | s2\n",
    "\n",
    "s1.union(s2)"
   ]
  },
  {
   "cell_type": "code",
   "execution_count": 17,
   "id": "91779f53",
   "metadata": {},
   "outputs": [
    {
     "data": {
      "text/plain": [
       "['5', '7', '4', '3']"
      ]
     },
     "execution_count": 17,
     "metadata": {},
     "output_type": "execute_result"
    }
   ],
   "source": [
    "# intersection of sets\n",
    "\n",
    "import re \n",
    "\n",
    "pattern = '\\d'\n",
    "\n",
    "str = 'This is a test 57 and 4 and -3'\n",
    "\n",
    "re.findall(pattern, str)\n"
   ]
  },
  {
   "cell_type": "markdown",
   "id": "f39f179e",
   "metadata": {},
   "source": [
    "## Using pandas"
   ]
  },
  {
   "cell_type": "code",
   "execution_count": 27,
   "id": "25b4efdd",
   "metadata": {},
   "outputs": [
    {
     "name": "stdout",
     "output_type": "stream",
     "text": [
      "0      22675271.0\n",
      "1      16642318.0\n",
      "2       5378136.0\n",
      "3       4319286.0\n",
      "4       3724650.0\n",
      "          ...    \n",
      "189         234.0\n",
      "190         231.0\n",
      "191         229.0\n",
      "192         133.0\n",
      "193          57.0\n",
      "Name: GDP, Length: 194, dtype: float64\n"
     ]
    },
    {
     "data": {
      "image/png": "[encoded data removed]",
      "text/plain": [
       "<Figure size 640x480 with 1 Axes>"
      ]
     },
     "metadata": {},
     "output_type": "display_data"
    }
   ],
   "source": [
    "import pandas as pd\n",
    "\n",
    "from matplotlib import pyplot as plt\n",
    "\n",
    "df = pd.read_csv('data.csv')\n",
    "\n",
    "countries = df.loc[:, \"Country\"]\n",
    "\n",
    "gdps = df.loc[:, \"GDP\"]\n",
    "\n",
    "plt.bar(countries, gdps)\n",
    "plt.xticks(range(len(countries)), countries)\n",
    "plt.xlabel(\"Country\")\n",
    "plt.ylabel(\"GDP\")\n",
    "plt.title(\"GDPs of countries\")\n",
    "\n",
    "plt.show()"
   ]
  },
  {
   "cell_type": "code",
   "execution_count": null,
   "id": "ac7aa482",
   "metadata": {},
   "outputs": [],
   "source": []
  },
  {
   "cell_type": "code",
   "execution_count": null,
   "id": "61445e14",
   "metadata": {},
   "outputs": [],
   "source": []
  }
 ],
 "metadata": {
  "kernelspec": {
   "display_name": "Python 3 (ipykernel)",
   "language": "python",
   "name": "python3"
  },
  "language_info": {
   "codemirror_mode": {
    "name": "ipython",
    "version": 3
   },
   "file_extension": ".py",
   "mimetype": "text/x-python",
   "name": "python",
   "nbconvert_exporter": "python",
   "pygments_lexer": "ipython3",
   "version": "3.11.0"
  }
 },
 "nbformat": 4,
 "nbformat_minor": 5
}
