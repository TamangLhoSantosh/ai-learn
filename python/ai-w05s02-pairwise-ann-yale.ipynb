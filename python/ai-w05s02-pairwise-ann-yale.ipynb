{
 "cells": [
  {
   "cell_type": "markdown",
   "id": "17dd7a60",
   "metadata": {},
   "source": [
    "# Testing the pairwise ANNs for face classification"
   ]
  },
  {
   "cell_type": "code",
   "execution_count": 1,
   "id": "2afa13e6",
   "metadata": {},
   "outputs": [],
   "source": [
    "from numpy import load\n",
    "import numpy as np\n",
    "\n",
    "y = load('yaleExtB_target.npy')\n",
    "X = load('yaleExtB_data.npy')"
   ]
  },
  {
   "cell_type": "code",
   "execution_count": 2,
   "id": "818d21fa",
   "metadata": {},
   "outputs": [
    {
     "data": {
      "text/plain": [
       "array([[ 82.,  86.,  86., ...,  91.,  85.,  80.],\n",
       "       [ 96.,  99., 107., ...,  68.,  62.,  57.],\n",
       "       [ 98., 104., 117., ...,  35.,  34.,  33.],\n",
       "       [ 21.,  20.,  20., ...,  21.,  21.,  22.],\n",
       "       [ 64.,  62.,  61., ..., 114., 112., 106.]])"
      ]
     },
     "execution_count": 2,
     "metadata": {},
     "output_type": "execute_result"
    }
   ],
   "source": [
    "X[:5]"
   ]
  },
  {
   "cell_type": "code",
   "execution_count": 3,
   "id": "d22b3466",
   "metadata": {},
   "outputs": [
    {
     "name": "stdout",
     "output_type": "stream",
     "text": [
      "Data shape (1500, 5236)\n"
     ]
    }
   ],
   "source": [
    "print('Data shape', X.shape)"
   ]
  },
  {
   "cell_type": "code",
   "execution_count": 4,
   "id": "5219ac4d",
   "metadata": {},
   "outputs": [
    {
     "data": {
      "text/plain": [
       "array([ 2.,  2.,  2., ..., 39., 39., 39.])"
      ]
     },
     "execution_count": 4,
     "metadata": {},
     "output_type": "execute_result"
    }
   ],
   "source": [
    "y[:-5]"
   ]
  },
  {
   "cell_type": "code",
   "execution_count": 5,
   "id": "c35cb21b",
   "metadata": {},
   "outputs": [],
   "source": [
    "from sklearn.model_selection import train_test_split\n",
    "\n",
    "# split data for training and testing\n",
    "X_train, X_test, y_train, y_test = train_test_split(X, \n",
    "                                                    y, \n",
    "                                                    test_size=0.33,\n",
    "                                                    shuffle=True)"
   ]
  },
  {
   "cell_type": "code",
   "execution_count": 6,
   "id": "89f21fd2",
   "metadata": {},
   "outputs": [],
   "source": [
    "from sklearn.decomposition import PCA\n",
    "\n",
    "# PCA \n",
    "nof_prin_components = 200  # PARAMETER for optimisation in expereiments\n",
    "pca = PCA(n_components=nof_prin_components, whiten=True).fit(X_train)\n",
    "# applies PCA to the train and test images to calculate the principal components\n",
    "X_train_pca = pca.transform(X_train) \n",
    "X_test_pca = pca.transform(X_test)"
   ]
  },
  {
   "cell_type": "code",
   "execution_count": 7,
   "id": "161a223b",
   "metadata": {},
   "outputs": [],
   "source": [
    "# Pairwise classifier (one vs one classifier)\n",
    "\n",
    "from sklearn.multiclass import OneVsOneClassifier\n",
    "from sklearn.svm import LinearSVC\n",
    "\n",
    "clf = OneVsOneClassifier(LinearSVC())"
   ]
  },
  {
   "cell_type": "code",
   "execution_count": 8,
   "id": "9598e7bf",
   "metadata": {},
   "outputs": [],
   "source": [
    "# train\n",
    "model = clf.fit(X_train_pca, y_train)"
   ]
  },
  {
   "cell_type": "code",
   "execution_count": 9,
   "id": "acd33160",
   "metadata": {},
   "outputs": [],
   "source": [
    "# Use the model/predictor to predict\n",
    "y_pred = model.predict(X_test_pca)"
   ]
  },
  {
   "cell_type": "code",
   "execution_count": 12,
   "id": "15a1b894",
   "metadata": {},
   "outputs": [
    {
     "name": "stdout",
     "output_type": "stream",
     "text": [
      "Accuracy: 0.9676767676767677\n"
     ]
    }
   ],
   "source": [
    "from sklearn import metrics\n",
    "\n",
    "# view the accuracy\n",
    "print(\"Accuracy:\", metrics.accuracy_score(y_test, y_pred))"
   ]
  },
  {
   "cell_type": "markdown",
   "id": "5cd523f7",
   "metadata": {},
   "source": [
    "## A name predictor for face"
   ]
  },
  {
   "cell_type": "code",
   "execution_count": 13,
   "id": "d4dbb292",
   "metadata": {},
   "outputs": [],
   "source": [
    "target_names = {'2':'Johnathan',\n",
    "'3':'Anthony',\n",
    "'4':'Victor',\n",
    "'5':'Joshua',\n",
    "'6':'Albert',\n",
    "'7':'Michael',\n",
    "'8':'Anthony',\n",
    "'9':'Brian',\n",
    "'11':'William',\n",
    "'12':'Patrick',\n",
    "'13':'Adrian',\n",
    "'15':'Jared',\n",
    "'16':'Christopher',\n",
    "'17':'Geoffrey',\n",
    "'18':'Bryan',\n",
    "'20':'Gregory',\n",
    "'22':'Dustin',\n",
    "'23':'Devon',\n",
    "'24':'Matthew',\n",
    "'25':'Tyler',\n",
    "'26':'John',\n",
    "'27':'Brian',\n",
    "'28':'Michael',\n",
    "'32':'Tommy',\n",
    "'33':'Christopher',\n",
    "'34':'Miguel',\n",
    "'35':'Alexander',\n",
    "'37':'Jeffery',\n",
    "'38':'Steven',\n",
    "'39':'Tom',\n",
    "               }"
   ]
  },
  {
   "cell_type": "code",
   "execution_count": 14,
   "id": "ac29e2a8",
   "metadata": {},
   "outputs": [],
   "source": [
    "def get_name(class_index):\n",
    "    if str(class_index) in target_names.keys():\n",
    "        return target_names[str(class_index)]\n",
    "    else:\n",
    "        return 'Unidentified'"
   ]
  },
  {
   "cell_type": "code",
   "execution_count": 16,
   "id": "5079950c",
   "metadata": {},
   "outputs": [
    {
     "name": "stdout",
     "output_type": "stream",
     "text": [
      "[11.]\n",
      "William\n"
     ]
    }
   ],
   "source": [
    "import cv2\n",
    "\n",
    "from itertools import chain\n",
    "# load a random image\n",
    "test_image = cv2.imread(\"./Tr0/yaleB11_P00A-015E+20.jpg\")\n",
    "\n",
    "gray = cv2.cvtColor(test_image, cv2.COLOR_BGR2GRAY)\n",
    "\n",
    "# flatten the image data\n",
    "image = [j for i in gray for j in i]\n",
    "\n",
    "# get PCA of the test image\n",
    "test_pca = pca.transform([image])\n",
    "\n",
    "# predict the image class\n",
    "class_pred = model.predict(test_pca)\n",
    "\n",
    "print(class_pred)\n",
    "\n",
    "print(get_name(int(class_pred)))"
   ]
  },
  {
   "cell_type": "markdown",
   "id": "108a7c82",
   "metadata": {},
   "source": [
    "## Live with webcam"
   ]
  },
  {
   "cell_type": "code",
   "execution_count": 17,
   "id": "b2193bc6",
   "metadata": {},
   "outputs": [],
   "source": [
    "faceCascade = cv2.CascadeClassifier('haarcascades/haarcascade_frontalface_alt2.xml')"
   ]
  },
  {
   "cell_type": "code",
   "execution_count": 18,
   "id": "44505b0b",
   "metadata": {},
   "outputs": [],
   "source": [
    "video_capture = cv2.VideoCapture(0)\n",
    "\n",
    "# for text display in cv2\n",
    "font = cv2.FONT_HERSHEY_SIMPLEX\n",
    "fontScale = 1   \n",
    "color = (255, 0, 0)  \n",
    "thickness = 2\n",
    "\n",
    "while True:\n",
    "    # Capture frame-by-frame\n",
    "    ret, frame = video_capture.read()\n",
    "\n",
    "    gray = cv2.cvtColor(frame, cv2.COLOR_BGR2GRAY)\n",
    "\n",
    "   \n",
    "    faces = faceCascade.detectMultiScale(\n",
    "        gray,\n",
    "        scaleFactor=1.1,\n",
    "        minNeighbors=5,\n",
    "        minSize=(30, 30),\n",
    "        flags=cv2.CASCADE_SCALE_IMAGE\n",
    "    )\n",
    "\n",
    "    # Draw a rectangle around the faces\n",
    "    # extract the face\n",
    "    # flatten the face data\n",
    "    # calculate pca\n",
    "    # classify the face then write name\n",
    "    for (x, y, w, h) in faces:\n",
    "        cv2.rectangle(frame, (x, y), (x+w, y+h), (0, 255, 0), 2)\n",
    "        face = frame[y:y+h, x:x+w]   \n",
    "        resize_face = cv2.resize(face, (68,77))        \n",
    "        gray_face = cv2.cvtColor(resize_face, cv2.COLOR_BGR2GRAY)\n",
    "        flat_face = [j for i in gray_face for j in i]       \n",
    "        test_pca = pca.transform([flat_face])        \n",
    "        class_pred = model.predict(test_pca)\n",
    "        name = get_name(int(class_pred))\n",
    "        cv2.putText(frame, name, (x, y-10), font, fontScale, color, thickness, cv2.LINE_AA)     \n",
    "\n",
    "    # Display the resulting frame\n",
    "    cv2.imshow('Video', frame)\n",
    "   \n",
    "    # cv2.imshow('Video', gray)\n",
    "\n",
    "    if cv2.waitKey(1) & 0xFF == ord('q'):\n",
    "        break\n",
    "\n",
    "# When everything is done, release the capture\n",
    "video_capture.release()\n",
    "cv2.destroyAllWindows()"
   ]
  },
  {
   "cell_type": "code",
   "execution_count": null,
   "id": "169a6e39",
   "metadata": {},
   "outputs": [],
   "source": []
  }
 ],
 "metadata": {
  "kernelspec": {
   "display_name": "Python 3 (ipykernel)",
   "language": "python",
   "name": "python3"
  },
  "language_info": {
   "codemirror_mode": {
    "name": "ipython",
    "version": 3
   },
   "file_extension": ".py",
   "mimetype": "text/x-python",
   "name": "python",
   "nbconvert_exporter": "python",
   "pygments_lexer": "ipython3",
   "version": "3.11.0"
  }
 },
 "nbformat": 4,
 "nbformat_minor": 5
}
