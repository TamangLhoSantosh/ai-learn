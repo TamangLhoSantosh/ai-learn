{
 "cells": [
  {
   "cell_type": "markdown",
   "id": "a7798018",
   "metadata": {},
   "source": [
    "# K-fold cross validation"
   ]
  },
  {
   "cell_type": "code",
   "execution_count": 1,
   "id": "15f6374b",
   "metadata": {},
   "outputs": [
    {
     "name": "stdout",
     "output_type": "stream",
     "text": [
      "TRAIN: [0.3 0.4 0.5 0.6 0.7 0.8] VALIDATION: [0.1 0.2]\n",
      "TRAIN: [0.1 0.2 0.5 0.6 0.7 0.8] VALIDATION: [0.3 0.4]\n",
      "TRAIN: [0.1 0.2 0.3 0.4 0.7 0.8] VALIDATION: [0.5 0.6]\n",
      "TRAIN: [0.1 0.2 0.3 0.4 0.5 0.6] VALIDATION: [0.7 0.8]\n"
     ]
    }
   ],
   "source": [
    "# example is from SKlearn's website: \n",
    "# http://scikit-learn.org/stable/modules/generated/sklearn.model_selection.KFold.html\n",
    "\n",
    "import numpy as np  \n",
    "from sklearn.model_selection import KFold\n",
    "X = np.array([0.1, 0.2, 0.3, 0.4, 0.5, 0.6, 0.7, 0.8])\n",
    "y = np.array([1, 2, 3, 4, 5, 6, 7, 8])\n",
    "\n",
    "#KFold(n_splits=’warn’, shuffle=False, random_state=None)\n",
    "kf = KFold(n_splits=4)           \n",
    "\n",
    "for train_index, validation_index in kf.split(X):\n",
    "   print(\"TRAIN:\", X[train_index], \"VALIDATION:\", X[validation_index])\n",
    "   X_train, X_validation = X[train_index], X[validation_index]\n",
    "   y_train, y_validation = y[train_index], y[validation_index]"
   ]
  },
  {
   "cell_type": "code",
   "execution_count": 14,
   "id": "f6892675",
   "metadata": {},
   "outputs": [
    {
     "name": "stdout",
     "output_type": "stream",
     "text": [
      "[0.92105263 0.92105263 0.89189189 1.        ]\n"
     ]
    }
   ],
   "source": [
    "#Example is from SKLearn's website. Please see http://scikit-learn.org/stable/modules/generated/sklearn.model_selection.cross_val_score.html\n",
    "from sklearn import datasets, decomposition\n",
    "from sklearn.model_selection import cross_val_score\n",
    "\n",
    "from sklearn.model_selection import train_test_split # loads functions from the ML library sklearn \n",
    "from sklearn.metrics import classification_report\n",
    "from sklearn.neural_network import MLPClassifier\n",
    "\n",
    "iris = datasets.load_iris()\n",
    "X = iris.data\n",
    "y = iris.target\n",
    "\n",
    "# split into a training and testing set\n",
    "X_train, X_test, y_train, y_test = train_test_split(X, y, test_size=0.33)\n",
    "\n",
    "# PCA \n",
    "nof_prin_components = 2 \n",
    "pca = decomposition.PCA(n_components=nof_prin_components, \n",
    "                        svd_solver='full').fit(X_train)\n",
    "\n",
    "# applies PCA to the train and test images to calculate the principal components\n",
    "X_train_pca = pca.transform(X_train) \n",
    "X_test_pca = pca.transform(X_test)\n",
    "\n",
    "nohn = 50 # nof hidden neurons\n",
    "\n",
    "# ref: https://scikit-learn.org/stable/modules/generated/sklearn.neural_network.MLPClassifier.html\n",
    "clf = MLPClassifier(hidden_layer_sizes=(nohn,), \n",
    "                    solver='sgd', \n",
    "                    activation='tanh', \n",
    "                    batch_size=8, \n",
    "                    verbose=False, \n",
    "                    early_stopping=True).fit(X_train_pca, \n",
    "                                             y_train)\n",
    "\n",
    "y_pred = clf.predict(X_test_pca) # reoognises the test data "
   ]
  },
  {
   "cell_type": "code",
   "execution_count": null,
   "id": "38a5d6c7",
   "metadata": {},
   "outputs": [],
   "source": [
    "print(cross_val_score(clf, X, y, cv=4))"
   ]
  },
  {
   "cell_type": "markdown",
   "id": "564beefd",
   "metadata": {},
   "source": [
    "# AdaBoost"
   ]
  },
  {
   "cell_type": "code",
   "execution_count": 18,
   "id": "e13c64d6",
   "metadata": {},
   "outputs": [],
   "source": [
    "from sklearn.datasets import load_breast_cancer\n",
    "cancer_data = load_breast_cancer()"
   ]
  },
  {
   "cell_type": "code",
   "execution_count": 26,
   "id": "8bb4b0fe",
   "metadata": {},
   "outputs": [],
   "source": [
    "from sklearn.model_selection import train_test_split\n",
    "\n",
    "X, y = cancer_data.data, cancer_data.target\n",
    "\n",
    "X_train, X_test, y_train, y_test = train_test_split(X, \n",
    "                                                    y, \n",
    "                                                    random_state=42)"
   ]
  },
  {
   "cell_type": "code",
   "execution_count": 27,
   "id": "ce805924",
   "metadata": {},
   "outputs": [],
   "source": [
    "from sklearn.ensemble import AdaBoostClassifier\n",
    "from sklearn.tree import DecisionTreeClassifier\n",
    "\n",
    "ada_clf = AdaBoostClassifier(\n",
    "    DecisionTreeClassifier(max_depth=2), \n",
    "    n_estimators=200,\n",
    "    algorithm=\"SAMME.R\", \n",
    "    learning_rate=0.5, \n",
    "    random_state=42)\n"
   ]
  },
  {
   "cell_type": "code",
   "execution_count": 1,
   "id": "f5174ebb",
   "metadata": {},
   "outputs": [
    {
     "ename": "NameError",
     "evalue": "name 'ada_clf' is not defined",
     "output_type": "error",
     "traceback": [
      "\u001b[1;31m---------------------------------------------------------------------------\u001b[0m",
      "\u001b[1;31mNameError\u001b[0m                                 Traceback (most recent call last)",
      "Cell \u001b[1;32mIn [1], line 1\u001b[0m\n\u001b[1;32m----> 1\u001b[0m \u001b[43mada_clf\u001b[49m\u001b[38;5;241m.\u001b[39mfit(X_train, y_train)\n",
      "\u001b[1;31mNameError\u001b[0m: name 'ada_clf' is not defined"
     ]
    }
   ],
   "source": [
    "ada_clf.fit(X_train, y_train)"
   ]
  },
  {
   "cell_type": "code",
   "execution_count": 22,
   "id": "e9db79bf",
   "metadata": {},
   "outputs": [],
   "source": [
    "y_pred = ada_clf.predict(X_test)"
   ]
  },
  {
   "cell_type": "code",
   "execution_count": 23,
   "id": "a2f33c61",
   "metadata": {},
   "outputs": [
    {
     "data": {
      "text/plain": [
       "array([1, 0, 0, 1, 1, 0, 0, 0, 0, 1, 1, 0, 1, 0, 1, 0, 1, 1, 1, 0, 1, 1,\n",
       "       0, 1, 1, 1, 1, 1, 1, 0, 1, 1, 1, 1, 1, 1, 0, 1, 0, 1, 1, 0, 1, 1,\n",
       "       1, 1, 1, 1, 1, 1, 0, 0, 1, 1, 1, 1, 1, 0, 0, 1, 1, 0, 0, 1, 1, 1,\n",
       "       0, 0, 1, 1, 0, 0, 1, 0, 1, 1, 1, 0, 1, 1, 0, 1, 0, 0, 0, 0, 0, 0,\n",
       "       1, 1, 1, 0, 1, 1, 1, 1, 0, 0, 1, 0, 0, 1, 0, 0, 1, 1, 1, 0, 0, 1,\n",
       "       0, 1, 1, 0, 0, 0, 1, 1, 1, 0, 1, 1, 1, 0, 1, 0, 0, 1, 1, 0, 0, 0,\n",
       "       1, 1, 1, 0, 0, 1, 1, 0, 1, 0, 1])"
      ]
     },
     "execution_count": 23,
     "metadata": {},
     "output_type": "execute_result"
    }
   ],
   "source": [
    "y_pred"
   ]
  },
  {
   "cell_type": "code",
   "execution_count": 24,
   "id": "4ddafbd2",
   "metadata": {},
   "outputs": [
    {
     "name": "stdout",
     "output_type": "stream",
     "text": [
      "0.958041958041958\n"
     ]
    }
   ],
   "source": [
    "from sklearn.metrics import accuracy_score\n",
    "\n",
    "print(accuracy_score(y_test, y_pred))"
   ]
  },
  {
   "cell_type": "markdown",
   "id": "0f1e518b",
   "metadata": {},
   "source": [
    "## Bagging classifier"
   ]
  },
  {
   "cell_type": "code",
   "execution_count": 25,
   "id": "09150a3a",
   "metadata": {},
   "outputs": [
    {
     "name": "stdout",
     "output_type": "stream",
     "text": [
      "0.958041958041958\n"
     ]
    }
   ],
   "source": [
    "from sklearn.ensemble import BaggingClassifier\n",
    "from sklearn.tree import DecisionTreeClassifier\n",
    "\n",
    "pag_clf = BaggingClassifier(\n",
    "          DecisionTreeClassifier(random_state=42), n_estimators=1000,\n",
    "          max_samples=100, bootstrap=False, n_jobs=-1, random_state=42)\n",
    "pag_clf.fit(X_train, y_train)\n",
    "y_pred = pag_clf.predict(X_test)\n",
    "print(accuracy_score(y_test, y_pred))"
   ]
  },
  {
   "cell_type": "code",
   "execution_count": null,
   "id": "6e0f624a",
   "metadata": {},
   "outputs": [],
   "source": []
  }
 ],
 "metadata": {
  "kernelspec": {
   "display_name": "Python 3 (ipykernel)",
   "language": "python",
   "name": "python3"
  },
  "language_info": {
   "codemirror_mode": {
    "name": "ipython",
    "version": 3
   },
   "file_extension": ".py",
   "mimetype": "text/x-python",
   "name": "python",
   "nbconvert_exporter": "python",
   "pygments_lexer": "ipython3",
   "version": "3.11.0"
  }
 },
 "nbformat": 4,
 "nbformat_minor": 5
}
