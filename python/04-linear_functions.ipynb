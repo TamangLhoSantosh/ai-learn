{
 "cells": [
  {
   "cell_type": "markdown",
   "id": "ea29479d",
   "metadata": {},
   "source": [
    "# Linear functions"
   ]
  },
  {
   "cell_type": "markdown",
   "id": "2bab0549",
   "metadata": {},
   "source": [
    "Let's try to create some logical functions for classification using linear functions!"
   ]
  },
  {
   "cell_type": "code",
   "execution_count": 4,
   "id": "c2d4b209",
   "metadata": {},
   "outputs": [],
   "source": [
    "def logical_and(first_num, second_num):\n",
    "    if (first_num + second_num >= 2.0):\n",
    "        return True\n",
    "    else:\n",
    "        return False"
   ]
  },
  {
   "cell_type": "code",
   "execution_count": 5,
   "id": "5d6a3ae5",
   "metadata": {},
   "outputs": [
    {
     "data": {
      "text/plain": [
       "True"
      ]
     },
     "execution_count": 5,
     "metadata": {},
     "output_type": "execute_result"
    }
   ],
   "source": [
    "logical_and(1, 1)"
   ]
  },
  {
   "cell_type": "code",
   "execution_count": 6,
   "id": "bbdb4d5e",
   "metadata": {},
   "outputs": [
    {
     "data": {
      "text/plain": [
       "False"
      ]
     },
     "execution_count": 6,
     "metadata": {},
     "output_type": "execute_result"
    }
   ],
   "source": [
    "logical_and(1, 0)"
   ]
  },
  {
   "cell_type": "code",
   "execution_count": 7,
   "id": "254ff4d2",
   "metadata": {},
   "outputs": [],
   "source": [
    "def logical_or(first_num, second_num):\n",
    "    if (first_num + second_num >= 1.0):\n",
    "        return True\n",
    "    else:\n",
    "        return False"
   ]
  },
  {
   "cell_type": "code",
   "execution_count": 8,
   "id": "1c75ee4f",
   "metadata": {},
   "outputs": [
    {
     "data": {
      "text/plain": [
       "True"
      ]
     },
     "execution_count": 8,
     "metadata": {},
     "output_type": "execute_result"
    }
   ],
   "source": [
    "logical_or(1, 1)"
   ]
  },
  {
   "cell_type": "code",
   "execution_count": 9,
   "id": "1c20b08e",
   "metadata": {},
   "outputs": [
    {
     "data": {
      "text/plain": [
       "True"
      ]
     },
     "execution_count": 9,
     "metadata": {},
     "output_type": "execute_result"
    }
   ],
   "source": [
    "logical_or(1, 0)"
   ]
  },
  {
   "cell_type": "code",
   "execution_count": 10,
   "id": "57c38278",
   "metadata": {},
   "outputs": [
    {
     "data": {
      "text/plain": [
       "False"
      ]
     },
     "execution_count": 10,
     "metadata": {},
     "output_type": "execute_result"
    }
   ],
   "source": [
    "logical_or(0, 0)"
   ]
  },
  {
   "cell_type": "markdown",
   "id": "be779cc5",
   "metadata": {},
   "source": [
    "## Vectors"
   ]
  },
  {
   "cell_type": "code",
   "execution_count": 7,
   "id": "079a8fd9",
   "metadata": {},
   "outputs": [],
   "source": [
    "# Let's create vectors of different data\n",
    "\n",
    "from typing import List\n",
    "\n",
    "Vector = List[float] # empty vector\n",
    "\n",
    "height_weight_age = [70, # inches\n",
    "                    170, # pounds\n",
    "                    40] # years\n",
    "\n",
    "grades = [95, # subject 1\n",
    "         80, # subject 2\n",
    "         75, # subject 3\n",
    "         62] # subject 4"
   ]
  },
  {
   "cell_type": "markdown",
   "id": "6d81b0e4",
   "metadata": {},
   "source": [
    "### Vector operations"
   ]
  },
  {
   "cell_type": "code",
   "execution_count": 14,
   "id": "926016de",
   "metadata": {},
   "outputs": [
    {
     "data": {
      "text/plain": [
       "[5, 7, 9]"
      ]
     },
     "execution_count": 14,
     "metadata": {},
     "output_type": "execute_result"
    }
   ],
   "source": [
    "def add_vectors(v: Vector, w: Vector) -> Vector:\n",
    "    ''' Add correspondent elements - it is like transposing a point in graph '''\n",
    "    assert len(v) == len(w), \"Vectors must be of same length\"\n",
    "    return [v_i + w_i for v_i, w_i in zip(v, w)]\n",
    "\n",
    "add_vectors([1, 2, 3], [4, 5, 6])\n"
   ]
  },
  {
   "cell_type": "code",
   "execution_count": 16,
   "id": "895933c6",
   "metadata": {},
   "outputs": [
    {
     "data": {
      "text/plain": [
       "[5, 2, -5]"
      ]
     },
     "execution_count": 16,
     "metadata": {},
     "output_type": "execute_result"
    }
   ],
   "source": [
    "def subtract_vectors(v: Vector, w: Vector) -> Vector:\n",
    "    ''' Add correspondent elements - it is like transposing a point in graph '''\n",
    "    assert len(v) == len(w), \"Vectors must be of same length\"\n",
    "    return [v_i - w_i for v_i, w_i in zip(v, w)]\n",
    "\n",
    "subtract_vectors([9, 7, 1], [4, 5, 6])"
   ]
  },
  {
   "cell_type": "code",
   "execution_count": 18,
   "id": "b805245f",
   "metadata": {},
   "outputs": [
    {
     "data": {
      "text/plain": [
       "[16, 20]"
      ]
     },
     "execution_count": 18,
     "metadata": {},
     "output_type": "execute_result"
    }
   ],
   "source": [
    "def vector_sum(vectors: List[Vector]) -> Vector:\n",
    "    \"\"\"Sums all corresponding elements\"\"\"\n",
    "\n",
    "    # Check that vectors is not empty\n",
    "    assert vectors, \"no vectors provided!\"\n",
    "\n",
    "    # Check the vectors are all the same size\n",
    "    num_elements = len(vectors[0])\n",
    "\n",
    "    assert all(len(v) == num_elements for v in vectors), \"different sizes!\"\n",
    "\n",
    "    # the i-th element of the result is the sum of every vector[i]\n",
    "\n",
    "    return [sum(vector[i] for vector in vectors)\n",
    "        for i in range(num_elements)]\n",
    "\n",
    "vector_sum([[1, 2], [3, 4], [5, 6], [7, 8]])\n"
   ]
  },
  {
   "cell_type": "code",
   "execution_count": 19,
   "id": "231dd7d3",
   "metadata": {},
   "outputs": [
    {
     "data": {
      "text/plain": [
       "[2, 4, 6]"
      ]
     },
     "execution_count": 19,
     "metadata": {},
     "output_type": "execute_result"
    }
   ],
   "source": [
    "def scalar_multiply(c: float, v: Vector) -> Vector:\n",
    "    \"\"\"Multiplies every element by c\"\"\"\n",
    "    return [c * v_i for v_i in v]\n",
    "\n",
    "scalar_multiply(2, [1, 2, 3])"
   ]
  },
  {
   "cell_type": "code",
   "execution_count": 20,
   "id": "0c18ec51",
   "metadata": {},
   "outputs": [
    {
     "data": {
      "text/plain": [
       "[3.0, 4.0]"
      ]
     },
     "execution_count": 20,
     "metadata": {},
     "output_type": "execute_result"
    }
   ],
   "source": [
    "def vector_mean(vectors: List[Vector]) -> Vector:\n",
    "    \"\"\"Computes the element-wise average\"\"\"\n",
    "    n = len(vectors)\n",
    "    return scalar_multiply(1/n, vector_sum(vectors))\n",
    "\n",
    "vector_mean([[1, 2], [3, 4], [5, 6]])"
   ]
  },
  {
   "cell_type": "code",
   "execution_count": 23,
   "id": "6f69e334",
   "metadata": {},
   "outputs": [
    {
     "data": {
      "text/plain": [
       "32"
      ]
     },
     "execution_count": 23,
     "metadata": {},
     "output_type": "execute_result"
    }
   ],
   "source": [
    "def dot_product(v: Vector, w: Vector) -> float:\n",
    "    \"\"\"Computes v_1 * w_1 + ... + v_n * w_n\"\"\"    \n",
    "    assert len(v) == len(w), \"vectors must be same length\"\n",
    "    return sum(v_i * w_i for v_i, w_i in zip(v, w))\n",
    "\n",
    "dot_product([1, 2, 3], [4, 5, 6])"
   ]
  },
  {
   "cell_type": "code",
   "execution_count": 25,
   "id": "5d7403da",
   "metadata": {},
   "outputs": [
    {
     "data": {
      "text/plain": [
       "14"
      ]
     },
     "execution_count": 25,
     "metadata": {},
     "output_type": "execute_result"
    }
   ],
   "source": [
    "# Other useful functions can be created re-using the vector functions\n",
    "def sum_of_squares(v: Vector) -> float:\n",
    "    \"\"\"Returns v_1 * v_1 + ... + v_n * v_n\"\"\"\n",
    "    return dot_product(v, v)\n",
    "\n",
    "sum_of_squares([1, 2, 3])"
   ]
  },
  {
   "cell_type": "code",
   "execution_count": 26,
   "id": "0b997c51",
   "metadata": {},
   "outputs": [
    {
     "data": {
      "text/plain": [
       "5.0"
      ]
     },
     "execution_count": 26,
     "metadata": {},
     "output_type": "execute_result"
    }
   ],
   "source": [
    "import math\n",
    "\n",
    "def magnitude(v: Vector) -> float:\n",
    "    \"\"\"Returns the magnitude (or length) of v\"\"\"\n",
    "    return math.sqrt(sum_of_squares(v)) # math.sqrt is square root function\n",
    "\n",
    "magnitude([3, 4])"
   ]
  },
  {
   "cell_type": "code",
   "execution_count": 28,
   "id": "22be47ea",
   "metadata": {},
   "outputs": [
    {
     "data": {
      "text/plain": [
       "4.123105625617661"
      ]
     },
     "execution_count": 28,
     "metadata": {},
     "output_type": "execute_result"
    }
   ],
   "source": [
    "def squared_distance(v: Vector, w: Vector) -> float:\n",
    "    \"\"\"Computes (v_1 - w_1) ** 2 + ... + (v_n - w_n) ** 2\"\"\"\n",
    "    return sum_of_squares(subtract_vectors(v, w))\n",
    "\n",
    "def distance(v: Vector, w: Vector) -> float:\n",
    "    \"\"\"Computes the distance between v and w\"\"\"\n",
    "    return math.sqrt(squared_distance(v, w))\n",
    "\n",
    "distance([3, 4], [7, 5])"
   ]
  },
  {
   "cell_type": "markdown",
   "id": "bae4ac52",
   "metadata": {},
   "source": [
    "### Plotting vectors"
   ]
  },
  {
   "cell_type": "code",
   "execution_count": 1,
   "id": "a611286a",
   "metadata": {},
   "outputs": [
    {
     "data": {
      "image/png": "[encoded data removed]",
      "text/plain": [
       "<Figure size 640x480 with 1 Axes>"
      ]
     },
     "metadata": {},
     "output_type": "display_data"
    }
   ],
   "source": [
    "import numpy as np\n",
    "import matplotlib.pyplot as plt\n",
    "  \n",
    "# Vector origin location\n",
    "X = [0]\n",
    "Y = [0]\n",
    "  \n",
    "# Directional vectors\n",
    "U = [2]  \n",
    "V = [1]  \n",
    "  \n",
    "# Creating plot\n",
    "plt.quiver(X, Y, U, V, color='b', units='xy', scale=1)\n",
    "plt.title('Single Vector')\n",
    "  \n",
    "# x-lim and y-lim\n",
    "plt.xlim(-2, 5)\n",
    "plt.ylim(-2, 2.5)\n",
    "  \n",
    "# Show plot with grid\n",
    "plt.grid()\n",
    "plt.show()"
   ]
  },
  {
   "cell_type": "code",
   "execution_count": 40,
   "id": "8577fe2d",
   "metadata": {},
   "outputs": [
    {
     "data": {
      "image/png": "[encoded data removed]",
      "text/plain": [
       "<Figure size 640x480 with 1 Axes>"
      ]
     },
     "metadata": {},
     "output_type": "display_data"
    }
   ],
   "source": [
    "import numpy as np\n",
    "import matplotlib.pyplot as plt\n",
    "\n",
    "coordinates = np.array([[2, 5], [1, 4]])\n",
    "origin = np.array([[0, 0], [0, 0]])\n",
    "\n",
    "plt.quiver(*origin, coordinates[:, 0], coordinates[:, 1], color=['blue','green'], scale=15)\n",
    "\n",
    "plt.ylim(-2,10)\n",
    "plt.xlim(-2,10)\n",
    "\n",
    "plt.grid()\n",
    "plt.show()"
   ]
  },
  {
   "cell_type": "markdown",
   "id": "9e883326",
   "metadata": {},
   "source": [
    "## Matrices"
   ]
  },
  {
   "cell_type": "markdown",
   "id": "5c0750f0",
   "metadata": {},
   "source": [
    "Two dimensional data structures. Represented by list of lists."
   ]
  },
  {
   "cell_type": "code",
   "execution_count": 4,
   "id": "88897f04",
   "metadata": {},
   "outputs": [],
   "source": [
    "from typing import List\n",
    "\n",
    "Matrix = List[List[float]]\n",
    "\n",
    "a = [[1, 2, 3],\n",
    "     [4, 5, 6]]\n"
   ]
  },
  {
   "cell_type": "markdown",
   "id": "48ac2083",
   "metadata": {},
   "source": [
    "### Matrix operations"
   ]
  },
  {
   "cell_type": "code",
   "execution_count": 6,
   "id": "5dc05e4c",
   "metadata": {},
   "outputs": [
    {
     "data": {
      "text/plain": [
       "(2, 3)"
      ]
     },
     "execution_count": 6,
     "metadata": {},
     "output_type": "execute_result"
    }
   ],
   "source": [
    "from typing import Tuple\n",
    "\n",
    "def shape(A: Matrix) -> Tuple[int, int]:\n",
    "    '''Return no. of rows and columns'''\n",
    "    num_rows = len(A)\n",
    "    num_cols = len(A[0]) if A else 0\n",
    "    return num_rows, num_cols\n",
    "\n",
    "shape([[1, 2, 3], [4, 5, 6]])\n",
    "\n"
   ]
  },
  {
   "cell_type": "code",
   "execution_count": 12,
   "id": "4fe2069e",
   "metadata": {},
   "outputs": [
    {
     "data": {
      "text/plain": [
       "[2, 5]"
      ]
     },
     "execution_count": 12,
     "metadata": {},
     "output_type": "execute_result"
    }
   ],
   "source": [
    "def get_row(A: Matrix, i:int) -> Vector:\n",
    "    '''Returns the i-th row of A'''    \n",
    "    return A[i] # A[i] is already the ith row\n",
    "\n",
    "def get_column(A: Matrix, j: int) -> Vector:\n",
    "    \"\"\"Returns the j-th column of A (as a Vector)\"\"\"\n",
    "    return [A_i[j] # jth element of row A_i\n",
    "        for A_i in A] # for each row A_i\n",
    "\n",
    "get_row([[1, 2, 3], [4, 5, 6]], 0)\n",
    "get_column([[1, 2, 3], [4, 5, 6]], 1)"
   ]
  },
  {
   "cell_type": "code",
   "execution_count": 13,
   "id": "c08cbc1e",
   "metadata": {},
   "outputs": [],
   "source": [
    "from typing import Callable\n",
    "\n",
    "def make_matrix(num_rows: int,\n",
    "                num_cols: int,\n",
    "                entry_fn: Callable[[int, int], float]) -> Matrix:\n",
    "    \"\"\"\n",
    "    Returns a num_rows x num_cols matrix\n",
    "    whose (i,j)-th entry is entry_fn(i, j)\n",
    "    \"\"\"\n",
    "    return [[entry_fn(i, j) # given i, create a list\n",
    "        for j in range(num_cols)] # [entry_fn(i, 0), ... ]\n",
    "        for i in range(num_rows)] # create one list for each i"
   ]
  },
  {
   "cell_type": "code",
   "execution_count": 14,
   "id": "18ea31b3",
   "metadata": {},
   "outputs": [],
   "source": [
    "def identity_matrix(n: int) -> Matrix:\n",
    "    \"\"\"Returns the n x n identity matrix\"\"\"\n",
    "    return make_matrix(n, n, lambda i, j: 1 if i == j else 0)"
   ]
  },
  {
   "cell_type": "code",
   "execution_count": 15,
   "id": "e5a2d178",
   "metadata": {},
   "outputs": [
    {
     "data": {
      "text/plain": [
       "[[1, 0, 0, 0, 0],\n",
       " [0, 1, 0, 0, 0],\n",
       " [0, 0, 1, 0, 0],\n",
       " [0, 0, 0, 1, 0],\n",
       " [0, 0, 0, 0, 1]]"
      ]
     },
     "execution_count": 15,
     "metadata": {},
     "output_type": "execute_result"
    }
   ],
   "source": [
    "identity_matrix(5)"
   ]
  },
  {
   "cell_type": "code",
   "execution_count": 16,
   "id": "1bf730d8",
   "metadata": {},
   "outputs": [],
   "source": [
    "friendships = [(0, 1), (0, 2), (1, 2), (1, 3), (2, 3), (3, 4),\n",
    "(4, 5), (5, 6), (5, 7), (6, 8), (7, 8), (8, 9)]"
   ]
  },
  {
   "cell_type": "code",
   "execution_count": 20,
   "id": "8725a431",
   "metadata": {},
   "outputs": [],
   "source": [
    "# alternate representation\n",
    "# user 0 1 2 3 4 5 6 7 8 9\n",
    "#\n",
    "friend_matrix = [[0, 1, 1, 0, 0, 0, 0, 0, 0, 0], # user 0\n",
    "                 [1, 0, 1, 1, 0, 0, 0, 0, 0, 0], # user 1\n",
    "                 [1, 1, 0, 1, 0, 0, 0, 0, 0, 0], # user 2\n",
    "                 [0, 1, 1, 0, 1, 0, 0, 0, 0, 0], # user 3\n",
    "                 [0, 0, 0, 1, 0, 1, 0, 0, 0, 0], # user 4\n",
    "                 [0, 0, 0, 0, 1, 0, 1, 1, 0, 0], # user 5\n",
    "                 [0, 0, 0, 0, 0, 1, 0, 0, 1, 0], # user 6\n",
    "                 [0, 0, 0, 0, 0, 1, 0, 0, 1, 0], # user 7\n",
    "                 [0, 0, 0, 0, 0, 0, 1, 1, 0, 1], # user 8\n",
    "                 [0, 0, 0, 0, 0, 0, 0, 0, 1, 0]] # user 9\n",
    "\n",
    "\n",
    "assert friend_matrix[0][8] == 0, \"0 and 8 are not friends\""
   ]
  },
  {
   "cell_type": "code",
   "execution_count": 21,
   "id": "ff1c6db3",
   "metadata": {},
   "outputs": [],
   "source": [
    "assert friend_matrix[0][2] == 1, \"0 and 2 are friends\""
   ]
  },
  {
   "cell_type": "code",
   "execution_count": 24,
   "id": "045b0c1f",
   "metadata": {},
   "outputs": [],
   "source": [
    "assert friend_matrix[0][8] == 0, \"0 and 8 are not friends\""
   ]
  },
  {
   "cell_type": "code",
   "execution_count": null,
   "id": "5e5f5181",
   "metadata": {},
   "outputs": [],
   "source": []
  }
 ],
 "metadata": {
  "kernelspec": {
   "display_name": "Python 3 (ipykernel)",
   "language": "python",
   "name": "python3"
  },
  "language_info": {
   "codemirror_mode": {
    "name": "ipython",
    "version": 3
   },
   "file_extension": ".py",
   "mimetype": "text/x-python",
   "name": "python",
   "nbconvert_exporter": "python",
   "pygments_lexer": "ipython3",
   "version": "3.11.0"
  }
 },
 "nbformat": 4,
 "nbformat_minor": 5
}
