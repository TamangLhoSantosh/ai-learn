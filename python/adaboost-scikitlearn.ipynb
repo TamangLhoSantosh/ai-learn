{
 "cells": [
  {
   "cell_type": "code",
   "execution_count": 4,
   "id": "c35cb21b",
   "metadata": {},
   "outputs": [],
   "source": [
    "from sklearn.ensemble import AdaBoostClassifier\n",
    "from sklearn import datasets\n",
    "from sklearn.model_selection import train_test_split\n",
    "from sklearn import metrics"
   ]
  },
  {
   "cell_type": "code",
   "execution_count": 5,
   "id": "78257b30",
   "metadata": {},
   "outputs": [],
   "source": [
    "# obtain IRIS data\n",
    "\n",
    "iris = datasets.load_iris()\n",
    "X = iris.data\n",
    "y = iris.target"
   ]
  },
  {
   "cell_type": "code",
   "execution_count": 6,
   "id": "7221ebf9",
   "metadata": {},
   "outputs": [],
   "source": [
    "# split data for training and testing\n",
    "X_train, X_test, y_train, y_test = train_test_split(X, \n",
    "                                                    y, \n",
    "                                                    test_size=0.3)"
   ]
  },
  {
   "cell_type": "code",
   "execution_count": 7,
   "id": "161a223b",
   "metadata": {},
   "outputs": [],
   "source": [
    "# AdaBoost classifier\n",
    "\n",
    "# Parameters\n",
    "# base_estimator: It is a weak learner used to train the model.\n",
    "# n_estimators: Number of weak learners to train in each iteration.\n",
    "# learning_rate: It contributes to the weights of weak learners. It uses 1 as a default value.\n",
    "    \n",
    "abc = AdaBoostClassifier(n_estimators=30,\n",
    "                         learning_rate=1)"
   ]
  },
  {
   "cell_type": "code",
   "execution_count": 8,
   "id": "9598e7bf",
   "metadata": {},
   "outputs": [],
   "source": [
    "# train\n",
    "model = abc.fit(X_train, y_train)"
   ]
  },
  {
   "cell_type": "code",
   "execution_count": 9,
   "id": "acd33160",
   "metadata": {},
   "outputs": [],
   "source": [
    "# Use the model/predictor to predict\n",
    "y_pred = model.predict(X_test)"
   ]
  },
  {
   "cell_type": "code",
   "execution_count": 11,
   "id": "15a1b894",
   "metadata": {},
   "outputs": [
    {
     "name": "stdout",
     "output_type": "stream",
     "text": [
      "Accuracy: 0.9777777777777777\n"
     ]
    }
   ],
   "source": [
    "# view the accuracy\n",
    "print(\"Accuracy:\", metrics.accuracy_score(y_test, y_pred))"
   ]
  },
  {
   "cell_type": "code",
   "execution_count": 12,
   "id": "287d8632",
   "metadata": {},
   "outputs": [
    {
     "name": "stdout",
     "output_type": "stream",
     "text": [
      "Cross validation scores [1.         0.93333333 1.         0.93333333 0.93333333 0.86666667\n",
      " 0.86666667 1.         1.         1.        ]\n",
      "Average accuracy 0.9533333333333334\n"
     ]
    }
   ],
   "source": [
    "import numpy as np\n",
    "from sklearn.model_selection import cross_val_score\n",
    "\n",
    "cross_val_result = cross_val_score(abc, X, y, cv=10)\n",
    "\n",
    "print(\"Cross validation scores\", cross_val_result)\n",
    "print(\"Average accuracy\", np.mean(cross_val_result))"
   ]
  },
  {
   "cell_type": "code",
   "execution_count": null,
   "id": "ad581d26",
   "metadata": {},
   "outputs": [],
   "source": []
  }
 ],
 "metadata": {
  "kernelspec": {
   "display_name": "Python 3 (ipykernel)",
   "language": "python",
   "name": "python3"
  },
  "language_info": {
   "codemirror_mode": {
    "name": "ipython",
    "version": 3
   },
   "file_extension": ".py",
   "mimetype": "text/x-python",
   "name": "python",
   "nbconvert_exporter": "python",
   "pygments_lexer": "ipython3",
   "version": "3.11.0"
  }
 },
 "nbformat": 4,
 "nbformat_minor": 5
}
