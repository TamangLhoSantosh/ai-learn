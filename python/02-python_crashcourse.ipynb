{
 "cells": [
  {
   "cell_type": "markdown",
   "id": "7a95ec85",
   "metadata": {},
   "source": [
    "# Python crash course\n",
    "(C) 2022, Pramod Parajuli"
   ]
  },
  {
   "cell_type": "markdown",
   "id": "a2f150dc",
   "metadata": {},
   "source": [
    "## Data types and operations"
   ]
  },
  {
   "cell_type": "markdown",
   "id": "c4ee737e",
   "metadata": {},
   "source": [
    "### String"
   ]
  },
  {
   "cell_type": "code",
   "execution_count": 1,
   "id": "6b9695af",
   "metadata": {},
   "outputs": [],
   "source": [
    "str1 = 'Hello World!'"
   ]
  },
  {
   "cell_type": "code",
   "execution_count": 2,
   "id": "420d4f9f",
   "metadata": {},
   "outputs": [
    {
     "name": "stdout",
     "output_type": "stream",
     "text": [
      "Hello World!\n"
     ]
    }
   ],
   "source": [
    "print( str1 )"
   ]
  },
  {
   "cell_type": "markdown",
   "id": "4df1c8bf",
   "metadata": {},
   "source": [
    "String slicing. The same slicing technique works with lists as well."
   ]
  },
  {
   "cell_type": "code",
   "execution_count": 3,
   "id": "a01a4923",
   "metadata": {},
   "outputs": [
    {
     "name": "stdout",
     "output_type": "stream",
     "text": [
      "ello World!\n"
     ]
    }
   ],
   "source": [
    "print( str1[1:] )"
   ]
  },
  {
   "cell_type": "code",
   "execution_count": 4,
   "id": "f095ae5a",
   "metadata": {},
   "outputs": [
    {
     "name": "stdout",
     "output_type": "stream",
     "text": [
      "Hello Worl\n"
     ]
    }
   ],
   "source": [
    "print( str1[:10] )"
   ]
  },
  {
   "cell_type": "code",
   "execution_count": 5,
   "id": "b4e3e17e",
   "metadata": {},
   "outputs": [
    {
     "name": "stdout",
     "output_type": "stream",
     "text": [
      "llo Worl\n"
     ]
    }
   ],
   "source": [
    "print( str1[2:10] )"
   ]
  },
  {
   "cell_type": "code",
   "execution_count": 6,
   "id": "c855b67b",
   "metadata": {},
   "outputs": [
    {
     "name": "stdout",
     "output_type": "stream",
     "text": [
      "!\n"
     ]
    }
   ],
   "source": [
    "print( str1[-1] )"
   ]
  },
  {
   "cell_type": "code",
   "execution_count": 7,
   "id": "c698de0d",
   "metadata": {},
   "outputs": [
    {
     "name": "stdout",
     "output_type": "stream",
     "text": [
      "llo Wor\n"
     ]
    }
   ],
   "source": [
    "print( str1[2: -3] )"
   ]
  },
  {
   "cell_type": "code",
   "execution_count": 8,
   "id": "7f3c701c",
   "metadata": {},
   "outputs": [
    {
     "name": "stdout",
     "output_type": "stream",
     "text": [
      "H\n",
      "e\n",
      "l\n",
      "l\n",
      "o\n",
      " \n",
      "W\n",
      "o\n",
      "r\n",
      "l\n",
      "d\n",
      "!\n"
     ]
    }
   ],
   "source": [
    "for char in str1:\n",
    "    print(char)"
   ]
  },
  {
   "cell_type": "code",
   "execution_count": 9,
   "id": "c50446da",
   "metadata": {},
   "outputs": [
    {
     "name": "stdout",
     "output_type": "stream",
     "text": [
      "Hello World!Hello World!Hello World!\n"
     ]
    }
   ],
   "source": [
    "print( str1 * 3 )"
   ]
  },
  {
   "cell_type": "code",
   "execution_count": 10,
   "id": "dfff0dc8",
   "metadata": {},
   "outputs": [
    {
     "data": {
      "text/plain": [
       "12"
      ]
     },
     "execution_count": 10,
     "metadata": {},
     "output_type": "execute_result"
    }
   ],
   "source": [
    "len( str1 )"
   ]
  },
  {
   "cell_type": "code",
   "execution_count": 11,
   "id": "7e57cc3a",
   "metadata": {},
   "outputs": [
    {
     "data": {
      "text/plain": [
       "True"
      ]
     },
     "execution_count": 11,
     "metadata": {},
     "output_type": "execute_result"
    }
   ],
   "source": [
    "'World' in str1"
   ]
  },
  {
   "cell_type": "code",
   "execution_count": 12,
   "id": "4ea7065f",
   "metadata": {},
   "outputs": [
    {
     "name": "stdout",
     "output_type": "stream",
     "text": [
      "Found\n"
     ]
    }
   ],
   "source": [
    "if 'World' in str1:\n",
    "    print('Found')\n",
    "else:\n",
    "    print('Not found')"
   ]
  },
  {
   "cell_type": "code",
   "execution_count": 13,
   "id": "a9af0f4b",
   "metadata": {},
   "outputs": [],
   "source": [
    "char_list = list( enumerate( str1 ) )"
   ]
  },
  {
   "cell_type": "code",
   "execution_count": 14,
   "id": "ca6e3395",
   "metadata": {},
   "outputs": [
    {
     "data": {
      "text/plain": [
       "[(0, 'H'),\n",
       " (1, 'e'),\n",
       " (2, 'l'),\n",
       " (3, 'l'),\n",
       " (4, 'o'),\n",
       " (5, ' '),\n",
       " (6, 'W'),\n",
       " (7, 'o'),\n",
       " (8, 'r'),\n",
       " (9, 'l'),\n",
       " (10, 'd'),\n",
       " (11, '!')]"
      ]
     },
     "execution_count": 14,
     "metadata": {},
     "output_type": "execute_result"
    }
   ],
   "source": [
    "char_list"
   ]
  },
  {
   "cell_type": "markdown",
   "id": "826a2169",
   "metadata": {},
   "source": [
    "Formatted strings"
   ]
  },
  {
   "cell_type": "code",
   "execution_count": 15,
   "id": "1a4ece38",
   "metadata": {},
   "outputs": [
    {
     "name": "stdout",
     "output_type": "stream",
     "text": [
      "Elton John\n",
      "Elton John\n"
     ]
    }
   ],
   "source": [
    "first_name = \"Elton\"\n",
    "last_name = \"John\"\n",
    "\n",
    "full_name1 = \"{0} {1}\".format(first_name, last_name)\n",
    "print(full_name1)\n",
    "\n",
    "full_name2 = f\"{first_name} {last_name}\"\n",
    "print(full_name2)"
   ]
  },
  {
   "cell_type": "code",
   "execution_count": 16,
   "id": "0c559be8",
   "metadata": {},
   "outputs": [],
   "source": [
    "str2 = 'How are you doing?'"
   ]
  },
  {
   "cell_type": "code",
   "execution_count": 17,
   "id": "48c06c61",
   "metadata": {},
   "outputs": [
    {
     "name": "stdout",
     "output_type": "stream",
     "text": [
      "Hello World!How are you doing?\n"
     ]
    }
   ],
   "source": [
    "print (str1 + str2)"
   ]
  },
  {
   "cell_type": "code",
   "execution_count": 18,
   "id": "5b0faf22",
   "metadata": {},
   "outputs": [
    {
     "name": "stdout",
     "output_type": "stream",
     "text": [
      "Hello World! How are you doing?\n"
     ]
    }
   ],
   "source": [
    "print(str1, str2)"
   ]
  },
  {
   "cell_type": "code",
   "execution_count": 19,
   "id": "c59dccfc",
   "metadata": {},
   "outputs": [
    {
     "name": "stdout",
     "output_type": "stream",
     "text": [
      "Binary representation: 101\n"
     ]
    }
   ],
   "source": [
    "print(\"Binary representation: {0:b}\".format(5))"
   ]
  },
  {
   "cell_type": "code",
   "execution_count": 20,
   "id": "bbd8cc8c",
   "metadata": {},
   "outputs": [
    {
     "name": "stdout",
     "output_type": "stream",
     "text": [
      "Floating number: 1.522000e+01\n"
     ]
    }
   ],
   "source": [
    "print(\"Floating number: {0:e}\".format(15.22))"
   ]
  },
  {
   "cell_type": "code",
   "execution_count": 21,
   "id": "e0f99d9c",
   "metadata": {},
   "outputs": [
    {
     "name": "stdout",
     "output_type": "stream",
     "text": [
      "octal number 0o5\n",
      "binary number 0b101\n",
      "hexadecimal number 0x5\n"
     ]
    }
   ],
   "source": [
    "print(\"octal number\", oct(5))\n",
    "print(\"binary number\", bin(5))\n",
    "print(\"hexadecimal number\", hex(5))"
   ]
  },
  {
   "cell_type": "code",
   "execution_count": 22,
   "id": "e122ea88",
   "metadata": {},
   "outputs": [
    {
     "name": "stdout",
     "output_type": "stream",
     "text": [
      "|decimal   |  octal   |  binary  |    hexadecimal|\n",
      "|10        |   0o12   |  0b1010  |            0xa|\n"
     ]
    }
   ],
   "source": [
    "print(\"|{:<10}|{:^10}|{:^10}|{:>15}|\".format('decimal','octal', 'binary', 'hexadecimal'))\n",
    "print(\"|{:<10}|{:^10}|{:^10}|{:>15}|\".format(str(10), str(oct(10)), str(bin(10)), str(hex(10)) ) )"
   ]
  },
  {
   "cell_type": "markdown",
   "id": "0fafc8cc",
   "metadata": {},
   "source": [
    "### Numeric data types"
   ]
  },
  {
   "cell_type": "code",
   "execution_count": 23,
   "id": "735317cd",
   "metadata": {},
   "outputs": [],
   "source": [
    "a = 10 # integer"
   ]
  },
  {
   "cell_type": "code",
   "execution_count": 24,
   "id": "4712c36f",
   "metadata": {},
   "outputs": [
    {
     "data": {
      "text/plain": [
       "1000"
      ]
     },
     "execution_count": 24,
     "metadata": {},
     "output_type": "execute_result"
    }
   ],
   "source": [
    "a**3"
   ]
  },
  {
   "cell_type": "code",
   "execution_count": 25,
   "id": "b055bd15",
   "metadata": {},
   "outputs": [],
   "source": [
    "b = 10.5 # float"
   ]
  },
  {
   "cell_type": "code",
   "execution_count": 26,
   "id": "76cb443b",
   "metadata": {},
   "outputs": [],
   "source": [
    "c = 1 +2j  # complex number"
   ]
  },
  {
   "cell_type": "code",
   "execution_count": 27,
   "id": "fb27ae73",
   "metadata": {},
   "outputs": [
    {
     "data": {
      "text/plain": [
       "(4+2j)"
      ]
     },
     "execution_count": 27,
     "metadata": {},
     "output_type": "execute_result"
    }
   ],
   "source": [
    "c + 3"
   ]
  },
  {
   "cell_type": "code",
   "execution_count": 28,
   "id": "751c6334",
   "metadata": {},
   "outputs": [
    {
     "data": {
      "text/plain": [
       "12"
      ]
     },
     "execution_count": 28,
     "metadata": {},
     "output_type": "execute_result"
    }
   ],
   "source": [
    "0b10 + 0xA"
   ]
  },
  {
   "cell_type": "code",
   "execution_count": 29,
   "id": "1fec139d",
   "metadata": {},
   "outputs": [
    {
     "data": {
      "text/plain": [
       "1"
      ]
     },
     "execution_count": 29,
     "metadata": {},
     "output_type": "execute_result"
    }
   ],
   "source": [
    "int(1.3)"
   ]
  },
  {
   "cell_type": "code",
   "execution_count": 30,
   "id": "85d0e478",
   "metadata": {},
   "outputs": [
    {
     "data": {
      "text/plain": [
       "1"
      ]
     },
     "execution_count": 30,
     "metadata": {},
     "output_type": "execute_result"
    }
   ],
   "source": [
    "int('1')"
   ]
  },
  {
   "cell_type": "code",
   "execution_count": 31,
   "id": "9a06cae8",
   "metadata": {},
   "outputs": [
    {
     "data": {
      "text/plain": [
       "(1+4j)"
      ]
     },
     "execution_count": 31,
     "metadata": {},
     "output_type": "execute_result"
    }
   ],
   "source": [
    "complex('1+4j')"
   ]
  },
  {
   "cell_type": "code",
   "execution_count": 32,
   "id": "e564f518",
   "metadata": {},
   "outputs": [
    {
     "data": {
      "text/plain": [
       "False"
      ]
     },
     "execution_count": 32,
     "metadata": {},
     "output_type": "execute_result"
    }
   ],
   "source": [
    "(1.1 + 2.2) == 3.33"
   ]
  },
  {
   "cell_type": "code",
   "execution_count": 33,
   "id": "e7aae70b",
   "metadata": {},
   "outputs": [
    {
     "name": "stdout",
     "output_type": "stream",
     "text": [
      "0.1\n"
     ]
    }
   ],
   "source": [
    "print(0.1)"
   ]
  },
  {
   "cell_type": "code",
   "execution_count": 34,
   "id": "40196d4b",
   "metadata": {},
   "outputs": [
    {
     "name": "stdout",
     "output_type": "stream",
     "text": [
      "0.1000000000000000055511151231257827021181583404541015625\n"
     ]
    }
   ],
   "source": [
    "from decimal import Decimal\n",
    "\n",
    "print(Decimal(0.1))"
   ]
  },
  {
   "cell_type": "code",
   "execution_count": 35,
   "id": "5c56fec1",
   "metadata": {},
   "outputs": [
    {
     "name": "stdout",
     "output_type": "stream",
     "text": [
      "3/2\n",
      "True\n"
     ]
    }
   ],
   "source": [
    "from fractions import Fraction\n",
    "\n",
    "print(Fraction(1.5))\n",
    "\n",
    "print( Fraction(-3, 10) < 0 )"
   ]
  },
  {
   "cell_type": "code",
   "execution_count": 36,
   "id": "f4845aaf",
   "metadata": {},
   "outputs": [
    {
     "name": "stdout",
     "output_type": "stream",
     "text": [
      "3.141592653589793\n",
      "22026.465794806718\n",
      "720\n"
     ]
    }
   ],
   "source": [
    "import math\n",
    "\n",
    "print(math.pi)\n",
    "\n",
    "print(math.exp(10))\n",
    "\n",
    "print(math.factorial(6))"
   ]
  },
  {
   "cell_type": "markdown",
   "id": "4e8d9d59",
   "metadata": {},
   "source": [
    "### Lists"
   ]
  },
  {
   "cell_type": "markdown",
   "id": "2d4802d9",
   "metadata": {},
   "source": [
    "#### Number lists"
   ]
  },
  {
   "cell_type": "code",
   "execution_count": 37,
   "id": "ba292285",
   "metadata": {},
   "outputs": [],
   "source": [
    "num_list = [5, 7, 10, -12, 10]"
   ]
  },
  {
   "cell_type": "code",
   "execution_count": 38,
   "id": "6db685b9",
   "metadata": {},
   "outputs": [
    {
     "name": "stdout",
     "output_type": "stream",
     "text": [
      "10\n",
      "10\n"
     ]
    }
   ],
   "source": [
    "print(num_list[2])\n",
    "print(num_list[-3])"
   ]
  },
  {
   "cell_type": "code",
   "execution_count": 39,
   "id": "40a1a8e9",
   "metadata": {},
   "outputs": [
    {
     "name": "stdout",
     "output_type": "stream",
     "text": [
      "5\n",
      "7\n",
      "10\n",
      "-12\n",
      "10\n"
     ]
    }
   ],
   "source": [
    "for num in num_list:\n",
    "    print(num)"
   ]
  },
  {
   "cell_type": "code",
   "execution_count": 40,
   "id": "b529d58b",
   "metadata": {},
   "outputs": [
    {
     "data": {
      "text/plain": [
       "20"
      ]
     },
     "execution_count": 40,
     "metadata": {},
     "output_type": "execute_result"
    }
   ],
   "source": [
    "sum(num_list)"
   ]
  },
  {
   "cell_type": "code",
   "execution_count": 41,
   "id": "dd6d276f",
   "metadata": {},
   "outputs": [
    {
     "data": {
      "text/plain": [
       "10"
      ]
     },
     "execution_count": 41,
     "metadata": {},
     "output_type": "execute_result"
    }
   ],
   "source": [
    "max(num_list)"
   ]
  },
  {
   "cell_type": "code",
   "execution_count": 42,
   "id": "293b7b59",
   "metadata": {},
   "outputs": [
    {
     "data": {
      "text/plain": [
       "-12"
      ]
     },
     "execution_count": 42,
     "metadata": {},
     "output_type": "execute_result"
    }
   ],
   "source": [
    "min(num_list)"
   ]
  },
  {
   "cell_type": "code",
   "execution_count": 43,
   "id": "df373f33",
   "metadata": {},
   "outputs": [],
   "source": [
    "def avg(num_list):\n",
    "    return sum(num_list) / len(num_list)"
   ]
  },
  {
   "cell_type": "code",
   "execution_count": 44,
   "id": "de37fee8",
   "metadata": {},
   "outputs": [
    {
     "data": {
      "text/plain": [
       "4.0"
      ]
     },
     "execution_count": 44,
     "metadata": {},
     "output_type": "execute_result"
    }
   ],
   "source": [
    "avg(num_list)"
   ]
  },
  {
   "cell_type": "code",
   "execution_count": 45,
   "id": "37aed19c",
   "metadata": {},
   "outputs": [
    {
     "data": {
      "text/plain": [
       "4.0"
      ]
     },
     "execution_count": 45,
     "metadata": {},
     "output_type": "execute_result"
    }
   ],
   "source": [
    "from numpy import mean\n",
    "\n",
    "mean(num_list)"
   ]
  },
  {
   "cell_type": "code",
   "execution_count": 46,
   "id": "79a5c86c",
   "metadata": {},
   "outputs": [
    {
     "name": "stdout",
     "output_type": "stream",
     "text": [
      "32\n",
      "128\n",
      "1024\n",
      "0.000244140625\n",
      "1024\n"
     ]
    }
   ],
   "source": [
    "for num in num_list:\n",
    "    print( 2 ** num )"
   ]
  },
  {
   "cell_type": "code",
   "execution_count": 47,
   "id": "0297f37e",
   "metadata": {},
   "outputs": [
    {
     "name": "stdout",
     "output_type": "stream",
     "text": [
      "[32, 128, 1024, 0.000244140625, 1024]\n"
     ]
    }
   ],
   "source": [
    "print ( [ 2 ** x for x in num_list ] )"
   ]
  },
  {
   "cell_type": "code",
   "execution_count": 48,
   "id": "af426d37",
   "metadata": {},
   "outputs": [
    {
     "name": "stdout",
     "output_type": "stream",
     "text": [
      "[128, 1024, 1024]\n"
     ]
    }
   ],
   "source": [
    "print ( [ 2 ** x for x in num_list if x > 5 ] )"
   ]
  },
  {
   "cell_type": "code",
   "execution_count": 49,
   "id": "3ab9f42b",
   "metadata": {},
   "outputs": [
    {
     "name": "stdout",
     "output_type": "stream",
     "text": [
      "[32, 128]\n"
     ]
    }
   ],
   "source": [
    "print ( [ 2 ** x for x in num_list if x % 2 == 1 ] )"
   ]
  },
  {
   "cell_type": "code",
   "execution_count": 50,
   "id": "2b0ad87b",
   "metadata": {},
   "outputs": [
    {
     "data": {
      "text/plain": [
       "True"
      ]
     },
     "execution_count": 50,
     "metadata": {},
     "output_type": "execute_result"
    }
   ],
   "source": [
    "10 in num_list"
   ]
  },
  {
   "cell_type": "code",
   "execution_count": 51,
   "id": "ebaa2783",
   "metadata": {},
   "outputs": [
    {
     "data": {
      "text/plain": [
       "False"
      ]
     },
     "execution_count": 51,
     "metadata": {},
     "output_type": "execute_result"
    }
   ],
   "source": [
    "8 in num_list"
   ]
  },
  {
   "cell_type": "code",
   "execution_count": 52,
   "id": "6bc890a1",
   "metadata": {},
   "outputs": [
    {
     "data": {
      "text/plain": [
       "2"
      ]
     },
     "execution_count": 52,
     "metadata": {},
     "output_type": "execute_result"
    }
   ],
   "source": [
    "num_list.count(10)"
   ]
  },
  {
   "cell_type": "markdown",
   "id": "f62b838d",
   "metadata": {},
   "source": [
    "#### String lists"
   ]
  },
  {
   "cell_type": "code",
   "execution_count": 53,
   "id": "4fcd6718",
   "metadata": {},
   "outputs": [],
   "source": [
    "str_list = ['hello', 'world']"
   ]
  },
  {
   "cell_type": "code",
   "execution_count": 54,
   "id": "ce613f7b",
   "metadata": {},
   "outputs": [
    {
     "name": "stdout",
     "output_type": "stream",
     "text": [
      "hello\n",
      "world\n"
     ]
    }
   ],
   "source": [
    "for str in str_list:\n",
    "    print(str)"
   ]
  },
  {
   "cell_type": "code",
   "execution_count": 55,
   "id": "de958289",
   "metadata": {},
   "outputs": [
    {
     "name": "stdout",
     "output_type": "stream",
     "text": [
      "['hello', 'you']\n"
     ]
    }
   ],
   "source": [
    "str_list[1] = 'you'\n",
    "\n",
    "print(str_list)"
   ]
  },
  {
   "cell_type": "code",
   "execution_count": 56,
   "id": "cd9d21b6",
   "metadata": {},
   "outputs": [
    {
     "name": "stdout",
     "output_type": "stream",
     "text": [
      "['hello', 'you', 'OK']\n"
     ]
    }
   ],
   "source": [
    "str_list.append('OK')\n",
    "\n",
    "print(str_list)"
   ]
  },
  {
   "cell_type": "code",
   "execution_count": 57,
   "id": "1e71661f",
   "metadata": {},
   "outputs": [
    {
     "name": "stdout",
     "output_type": "stream",
     "text": [
      "['hello', 'you', 'OK', 'yeah', 'fine']\n"
     ]
    }
   ],
   "source": [
    "str_list.extend(['yeah', 'fine'])\n",
    "\n",
    "print(str_list)"
   ]
  },
  {
   "cell_type": "code",
   "execution_count": 58,
   "id": "36545c6e",
   "metadata": {},
   "outputs": [],
   "source": [
    "str_list2 = ['hi', 'there']"
   ]
  },
  {
   "cell_type": "code",
   "execution_count": 59,
   "id": "e9a15199",
   "metadata": {},
   "outputs": [],
   "source": [
    "combined_list = zip(str_list, str_list2)"
   ]
  },
  {
   "cell_type": "code",
   "execution_count": 60,
   "id": "54534c41",
   "metadata": {},
   "outputs": [
    {
     "name": "stdout",
     "output_type": "stream",
     "text": [
      "('hello', 'hi')\n",
      "('you', 'there')\n"
     ]
    }
   ],
   "source": [
    "for items in combined_list:\n",
    "    print(items)"
   ]
  },
  {
   "cell_type": "code",
   "execution_count": 61,
   "id": "36074886",
   "metadata": {},
   "outputs": [
    {
     "name": "stdout",
     "output_type": "stream",
     "text": [
      "['hello', 'you', 'OK', 'yeah', 'fine', 'hi', 'there']\n"
     ]
    }
   ],
   "source": [
    "print( str_list + str_list2)"
   ]
  },
  {
   "cell_type": "code",
   "execution_count": 62,
   "id": "502491ea",
   "metadata": {},
   "outputs": [
    {
     "name": "stdout",
     "output_type": "stream",
     "text": [
      "['hi', 'guys', 'there']\n"
     ]
    }
   ],
   "source": [
    "str_list2.insert(1, 'guys')\n",
    "\n",
    "print( str_list2 )"
   ]
  },
  {
   "cell_type": "code",
   "execution_count": 63,
   "id": "278d2078",
   "metadata": {},
   "outputs": [
    {
     "name": "stdout",
     "output_type": "stream",
     "text": [
      "['hi', 'guys']\n"
     ]
    }
   ],
   "source": [
    "del str_list2[2]\n",
    "\n",
    "print( str_list2 )"
   ]
  },
  {
   "cell_type": "code",
   "execution_count": 64,
   "id": "32e2af11",
   "metadata": {},
   "outputs": [
    {
     "name": "stdout",
     "output_type": "stream",
     "text": [
      "['hello', 'you', 'OK', 'yeah']\n"
     ]
    }
   ],
   "source": [
    "str_list.pop()\n",
    "\n",
    "print( str_list )"
   ]
  },
  {
   "cell_type": "code",
   "execution_count": 65,
   "id": "be738b4c",
   "metadata": {},
   "outputs": [
    {
     "name": "stdout",
     "output_type": "stream",
     "text": [
      "[]\n"
     ]
    }
   ],
   "source": [
    "str_list.clear()\n",
    "\n",
    "print( str_list )"
   ]
  },
  {
   "cell_type": "code",
   "execution_count": 66,
   "id": "9214df95",
   "metadata": {},
   "outputs": [
    {
     "name": "stdout",
     "output_type": "stream",
     "text": [
      "['guys', 'hi']\n"
     ]
    }
   ],
   "source": [
    "str_list2.reverse()\n",
    "\n",
    "print( str_list2 ) "
   ]
  },
  {
   "cell_type": "raw",
   "id": "03a6d00b",
   "metadata": {},
   "source": [
    "String methods\n",
    "\n",
    "append()\tadds an element to the end of the list\n",
    "extend()\tadds all elements of a list to another list\n",
    "insert()\tinserts an item at the defined index\n",
    "remove()\tremoves an item from the list\n",
    "pop()\treturns and removes an element at the given index\n",
    "clear()\tremoves all items from the list\n",
    "index()\treturns the index of the first matched item\n",
    "count()\treturns the count of the number of items passed as an argument\n",
    "sort()\tsort items in a list in ascending order\n",
    "reverse()\treverse the order of items in the list\n",
    "copy() \treturns a shallow copy of the list"
   ]
  },
  {
   "cell_type": "markdown",
   "id": "44609d90",
   "metadata": {},
   "source": [
    "#### Nested lists"
   ]
  },
  {
   "cell_type": "code",
   "execution_count": 67,
   "id": "92cace21",
   "metadata": {},
   "outputs": [
    {
     "name": "stdout",
     "output_type": "stream",
     "text": [
      "h\n",
      "2\n"
     ]
    }
   ],
   "source": [
    "n_list = [\"Hi there\", [1, 2, 3]]\n",
    "\n",
    "print(n_list[0][4])\n",
    "print(n_list[1][1])"
   ]
  },
  {
   "cell_type": "markdown",
   "id": "b745cb1a",
   "metadata": {},
   "source": [
    "#### List of lists"
   ]
  },
  {
   "cell_type": "code",
   "execution_count": 68,
   "id": "36b4d79d",
   "metadata": {},
   "outputs": [],
   "source": [
    "list_of_lists = [ [1, 2, 3],\n",
    "                [4, 5, 6],\n",
    "                [7, 8, 9]]"
   ]
  },
  {
   "cell_type": "code",
   "execution_count": 69,
   "id": "9134e281",
   "metadata": {},
   "outputs": [
    {
     "data": {
      "text/plain": [
       "[1, 2, 3]"
      ]
     },
     "execution_count": 69,
     "metadata": {},
     "output_type": "execute_result"
    }
   ],
   "source": [
    "list_of_lists[0]"
   ]
  },
  {
   "cell_type": "code",
   "execution_count": 70,
   "id": "6461a061",
   "metadata": {},
   "outputs": [
    {
     "data": {
      "text/plain": [
       "[[1, 2, 3]]"
      ]
     },
     "execution_count": 70,
     "metadata": {},
     "output_type": "execute_result"
    }
   ],
   "source": [
    "list_of_lists[0:1]"
   ]
  },
  {
   "cell_type": "code",
   "execution_count": 71,
   "id": "fc6011c8",
   "metadata": {},
   "outputs": [
    {
     "name": "stdout",
     "output_type": "stream",
     "text": [
      "6\n",
      "15\n",
      "24\n"
     ]
    }
   ],
   "source": [
    "for l in list_of_lists:\n",
    "    print(sum(l))"
   ]
  },
  {
   "cell_type": "markdown",
   "id": "a53aca42",
   "metadata": {},
   "source": [
    "### Tuples"
   ]
  },
  {
   "cell_type": "markdown",
   "id": "ab3c7f8f",
   "metadata": {},
   "source": [
    "Tuples are immutable data structures i.e. their contents can not changed during runtime"
   ]
  },
  {
   "cell_type": "code",
   "execution_count": 72,
   "id": "016635c9",
   "metadata": {},
   "outputs": [
    {
     "name": "stdout",
     "output_type": "stream",
     "text": [
      "1\n",
      "Hello world\n",
      "(2, 3, 4)\n"
     ]
    }
   ],
   "source": [
    "t = (1, 'Hello world', (2, 3, 4))\n",
    "\n",
    "for item in t:\n",
    "    print(item)"
   ]
  },
  {
   "cell_type": "code",
   "execution_count": 73,
   "id": "f31bcc6b",
   "metadata": {},
   "outputs": [
    {
     "name": "stdout",
     "output_type": "stream",
     "text": [
      "1\n",
      "Hello world\n",
      "(2, 3, 4)\n"
     ]
    }
   ],
   "source": [
    "# unpacking\n",
    "a, b, c = t\n",
    "\n",
    "print( a )\n",
    "print( b )\n",
    "print( c )"
   ]
  },
  {
   "cell_type": "code",
   "execution_count": 74,
   "id": "69d48b86",
   "metadata": {},
   "outputs": [
    {
     "name": "stdout",
     "output_type": "stream",
     "text": [
      "<class 'tuple'>\n",
      "<class 'tuple'>\n"
     ]
    }
   ],
   "source": [
    "# parentheses are not necessary to define a tuple\n",
    "\n",
    "tuple1 = 1, 2\n",
    "tuple2 = 1,\n",
    "\n",
    "\n",
    "print( type(tuple1) )\n",
    "print( type(tuple2) )"
   ]
  },
  {
   "cell_type": "markdown",
   "id": "e6f56f5e",
   "metadata": {},
   "source": [
    "Indexes, negative index, slicing, merge, multiplication, membership test, iterations work with tuples same as lists."
   ]
  },
  {
   "cell_type": "markdown",
   "id": "2d0fb07b",
   "metadata": {},
   "source": [
    "### Sets"
   ]
  },
  {
   "cell_type": "markdown",
   "id": "dcc6a82e",
   "metadata": {},
   "source": [
    "Sets are not indexed. Therefore, ordering of the items is not guaranteed."
   ]
  },
  {
   "cell_type": "code",
   "execution_count": 75,
   "id": "5d0f5b1f",
   "metadata": {},
   "outputs": [
    {
     "name": "stdout",
     "output_type": "stream",
     "text": [
      "1\n",
      "Hello world\n",
      "(2, 3, 4)\n"
     ]
    }
   ],
   "source": [
    "s = {1, 'Hello world', (2, 3, 4)}\n",
    "\n",
    "for item in s:\n",
    "    print(item)"
   ]
  },
  {
   "cell_type": "code",
   "execution_count": 76,
   "id": "1e47eeca",
   "metadata": {},
   "outputs": [
    {
     "name": "stdout",
     "output_type": "stream",
     "text": [
      "{1, 2, 3}\n"
     ]
    }
   ],
   "source": [
    "# sets can not have duplicates!\n",
    "\n",
    "s1 = {1, 2, 2, 3}\n",
    "\n",
    "print( s1 )"
   ]
  },
  {
   "cell_type": "code",
   "execution_count": 77,
   "id": "7a97dafd",
   "metadata": {},
   "outputs": [
    {
     "name": "stdout",
     "output_type": "stream",
     "text": [
      "{1, 2, (3, 4)}\n"
     ]
    }
   ],
   "source": [
    "# sets are mutable but items inside a set must only be immutable items\n",
    "\n",
    "s1 = {1, 2, (3, 4)}\n",
    "\n",
    "print( s1 )"
   ]
  },
  {
   "cell_type": "code",
   "execution_count": 78,
   "id": "a55e183b",
   "metadata": {},
   "outputs": [],
   "source": [
    "# this is not allowed as the list [3, 4] is mutable\n",
    "# s2 = {1, 2, [3, 4]}"
   ]
  },
  {
   "cell_type": "code",
   "execution_count": 79,
   "id": "d72f8206",
   "metadata": {},
   "outputs": [
    {
     "name": "stdout",
     "output_type": "stream",
     "text": [
      "<class 'set'>\n"
     ]
    }
   ],
   "source": [
    "# empty set can not be created with {}, it indicates a dictionary. Therefore, use set() for empty set\n",
    "\n",
    "new_set = set()\n",
    "\n",
    "print( type(new_set) )"
   ]
  },
  {
   "cell_type": "code",
   "execution_count": 80,
   "id": "4f077e34",
   "metadata": {},
   "outputs": [
    {
     "name": "stdout",
     "output_type": "stream",
     "text": [
      "{1, 2, 5, (3, 4)}\n",
      "{1, 2, 5, (3, 4), 6, 7, 8}\n"
     ]
    }
   ],
   "source": [
    "# add a single element\n",
    "s1.add(5)\n",
    "print( s1 )\n",
    "\n",
    "\n",
    "# add multiple elements\n",
    "s1.update([6, 7, 8])\n",
    "print( s1 )"
   ]
  },
  {
   "cell_type": "code",
   "execution_count": 81,
   "id": "04d13dea",
   "metadata": {},
   "outputs": [
    {
     "name": "stdout",
     "output_type": "stream",
     "text": [
      "{1, 2, 5, (3, 4), 7, 8}\n"
     ]
    }
   ],
   "source": [
    "# removing elements\n",
    "s1.remove(6)\n",
    "print( s1 )\n"
   ]
  },
  {
   "cell_type": "markdown",
   "id": "670d5713",
   "metadata": {},
   "source": [
    "Set operations"
   ]
  },
  {
   "cell_type": "code",
   "execution_count": 82,
   "id": "9ddca45c",
   "metadata": {},
   "outputs": [
    {
     "data": {
      "text/plain": [
       "{(3, 4), 1, 10, 2, 5, 7, 8, 9}"
      ]
     },
     "execution_count": 82,
     "metadata": {},
     "output_type": "execute_result"
    }
   ],
   "source": [
    "s2 = {1, 2, 9, 10}\n",
    "\n",
    "# for union, use '|' operator\n",
    "s1 | s2\n",
    "\n",
    "s1.union(s2)\n",
    "\n",
    "s2.union(s1)"
   ]
  },
  {
   "cell_type": "code",
   "execution_count": 83,
   "id": "d4b617d6",
   "metadata": {},
   "outputs": [
    {
     "data": {
      "text/plain": [
       "{1, 2}"
      ]
     },
     "execution_count": 83,
     "metadata": {},
     "output_type": "execute_result"
    }
   ],
   "source": [
    "# for intersection, use '&' operator\n",
    "\n",
    "s1 & s2\n",
    "\n",
    "s1.intersection(s2)\n",
    "\n",
    "s2.intersection(s1)"
   ]
  },
  {
   "cell_type": "code",
   "execution_count": 84,
   "id": "67ddbf7f",
   "metadata": {},
   "outputs": [
    {
     "data": {
      "text/plain": [
       "{9, 10}"
      ]
     },
     "execution_count": 84,
     "metadata": {},
     "output_type": "execute_result"
    }
   ],
   "source": [
    "# for set difference, use '-' operator\n",
    "s1 - s2\n",
    "s1.difference(s2)\n",
    "\n",
    "s2 - s1\n",
    "s2.difference(s1)"
   ]
  },
  {
   "cell_type": "code",
   "execution_count": 85,
   "id": "1632127c",
   "metadata": {},
   "outputs": [
    {
     "data": {
      "text/plain": [
       "{(3, 4), 10, 5, 7, 8, 9}"
      ]
     },
     "execution_count": 85,
     "metadata": {},
     "output_type": "execute_result"
    }
   ],
   "source": [
    "# symmetric difference, use '^' operator\n",
    "\n",
    "s1 ^ s2\n",
    "\n",
    "s1.symmetric_difference(s2)"
   ]
  },
  {
   "cell_type": "raw",
   "id": "acd52765",
   "metadata": {},
   "source": [
    "add()\tAdds an element to the set\n",
    "clear()\tRemoves all elements from the set\n",
    "copy()\tReturns a copy of the set\n",
    "difference()\tReturns the difference of two or more sets as a new set\n",
    "difference_update()\tRemoves all elements of another set from this set\n",
    "discard()\tRemoves an element from the set if it is a member. (Do nothing if the element is not in set)\n",
    "intersection()\tReturns the intersection of two sets as a new set\n",
    "intersection_update()\tUpdates the set with the intersection of itself and another\n",
    "isdisjoint()\tReturns True if two sets have a null intersection\n",
    "issubset()\tReturns True if another set contains this set\n",
    "issuperset()\tReturns True if this set contains another set\n",
    "pop()\tRemoves and returns an arbitrary set element. Raises KeyError if the set is empty\n",
    "remove()\tRemoves an element from the set. If the element is not a member, raises a KeyError\n",
    "symmetric_difference()\tReturns the symmetric difference of two sets as a new set\n",
    "symmetric_difference_update()\tUpdates a set with the symmetric difference of itself and another\n",
    "union()\tReturns the union of sets in a new set\n",
    "update()\tUpdates the set with the union of itself and others\n",
    "\n",
    "all()\tReturns True if all elements of the set are true (or if the set is empty).\n",
    "any()\tReturns True if any element of the set is true. If the set is empty, returns False.\n",
    "enumerate()\tReturns an enumerate object. It contains the index and value for all the items of the set as a pair.\n",
    "len()\tReturns the length (the number of items) in the set.\n",
    "max()\tReturns the largest item in the set.\n",
    "min()\tReturns the smallest item in the set.\n",
    "sorted()\tReturns a new sorted list from elements in the set(does not sort the set itself).\n",
    "sum()\tReturns the sum of all elements in the set."
   ]
  },
  {
   "cell_type": "markdown",
   "id": "6c4c96c7",
   "metadata": {},
   "source": [
    "### Dictionary"
   ]
  },
  {
   "cell_type": "markdown",
   "id": "62c60ba5",
   "metadata": {},
   "source": [
    "A dictionary is a key-value data structure"
   ]
  },
  {
   "cell_type": "code",
   "execution_count": 86,
   "id": "9852e4ce",
   "metadata": {},
   "outputs": [],
   "source": [
    "dict = {'fname': 'Elton', 'lname':'John'}"
   ]
  },
  {
   "cell_type": "markdown",
   "id": "371d9156",
   "metadata": {},
   "source": [
    "Normally, the key is used as index"
   ]
  },
  {
   "cell_type": "code",
   "execution_count": 87,
   "id": "96b4f652",
   "metadata": {},
   "outputs": [
    {
     "name": "stdout",
     "output_type": "stream",
     "text": [
      "fname\n",
      "lname\n"
     ]
    }
   ],
   "source": [
    "for key in dict:\n",
    "    print(key)"
   ]
  },
  {
   "cell_type": "markdown",
   "id": "1ed52483",
   "metadata": {},
   "source": [
    "To obtain value, use key"
   ]
  },
  {
   "cell_type": "code",
   "execution_count": 88,
   "id": "9b457f1b",
   "metadata": {},
   "outputs": [
    {
     "name": "stdout",
     "output_type": "stream",
     "text": [
      "Elton\n",
      "John\n"
     ]
    }
   ],
   "source": [
    "for key in dict:\n",
    "    print( dict[key])"
   ]
  },
  {
   "cell_type": "code",
   "execution_count": 89,
   "id": "ad55f80a",
   "metadata": {},
   "outputs": [
    {
     "name": "stdout",
     "output_type": "stream",
     "text": [
      "Elton\n",
      "John\n"
     ]
    }
   ],
   "source": [
    "for key in dict:\n",
    "    print( dict.get(key))"
   ]
  },
  {
   "cell_type": "code",
   "execution_count": 90,
   "id": "cdfcdd14",
   "metadata": {},
   "outputs": [
    {
     "name": "stdout",
     "output_type": "stream",
     "text": [
      "{'fname': 'Elton', 'lname': 'John', 'album': 'Captain and the Kid'}\n"
     ]
    }
   ],
   "source": [
    "dict['album'] = 'Captain and the Kid'\n",
    "\n",
    "print( dict )"
   ]
  },
  {
   "cell_type": "code",
   "execution_count": 91,
   "id": "48a1cedc",
   "metadata": {},
   "outputs": [
    {
     "name": "stdout",
     "output_type": "stream",
     "text": [
      "{'Math': 0, 'English': 0, 'Science': 0}\n"
     ]
    }
   ],
   "source": [
    "marks = {}.fromkeys(['Math', 'English', 'Science'], 0)\n",
    "\n",
    "print( marks )"
   ]
  },
  {
   "cell_type": "code",
   "execution_count": 92,
   "id": "e068def3",
   "metadata": {},
   "outputs": [
    {
     "name": "stdout",
     "output_type": "stream",
     "text": [
      "{0: 0, 1: 1, 2: 4, 3: 9, 4: 16}\n"
     ]
    }
   ],
   "source": [
    "square_values = {x : x*x for x in range(5)}\n",
    "\n",
    "print( square_values )"
   ]
  },
  {
   "cell_type": "raw",
   "id": "dcba9f67",
   "metadata": {},
   "source": [
    "clear()\tRemoves all items from the dictionary.\n",
    "copy()\tReturns a shallow copy of the dictionary.\n",
    "fromkeys(seq[, v])\tReturns a new dictionary with keys from seq and value equal to v (defaults to None).\n",
    "get(key[,d])\tReturns the value of the key. If the key does not exist, returns d (defaults to None).\n",
    "items()\tReturn a new object of the dictionary's items in (key, value) format.\n",
    "keys()\tReturns a new object of the dictionary's keys.\n",
    "pop(key[,d])\tRemoves the item with the key and returns its value or d if key is not found. If d is not provided and the key is not found, it raises KeyError.\n",
    "popitem()\tRemoves and returns an arbitrary item (key, value). Raises KeyError if the dictionary is empty.\n",
    "setdefault(key[,d])\tReturns the corresponding value if the key is in the dictionary. If not, inserts the key with a value of d and returns d (defaults to None).\n",
    "update([other])\tUpdates the dictionary with the key/value pairs from other, overwriting existing keys.\n",
    "values()\tReturns a new object of the dictionary's values"
   ]
  },
  {
   "cell_type": "markdown",
   "id": "c2f2fd10",
   "metadata": {},
   "source": [
    "All objects can be deleted with del <objectname>"
   ]
  },
  {
   "cell_type": "markdown",
   "id": "c954360c",
   "metadata": {},
   "source": [
    "## Control flow"
   ]
  },
  {
   "cell_type": "markdown",
   "id": "efb0c482",
   "metadata": {},
   "source": [
    "### if-else"
   ]
  },
  {
   "cell_type": "code",
   "execution_count": 106,
   "id": "5cfa8fac",
   "metadata": {},
   "outputs": [
    {
     "name": "stdout",
     "output_type": "stream",
     "text": [
      "j is greater\n"
     ]
    }
   ],
   "source": [
    "i = 10\n",
    "j =13\n",
    "k = 9\n",
    "\n",
    "if i > j:\n",
    "    print(\"i is greater\")\n",
    "else:\n",
    "    print(\"j is greater\")"
   ]
  },
  {
   "cell_type": "code",
   "execution_count": 107,
   "id": "a4408ecc",
   "metadata": {},
   "outputs": [
    {
     "name": "stdout",
     "output_type": "stream",
     "text": [
      "j is largest number\n"
     ]
    }
   ],
   "source": [
    "if i > j:\n",
    "    if i > k:\n",
    "        print(\"i is largest number\")\n",
    "    elif k > i:\n",
    "        print(\"k is largest number\")\n",
    "else:\n",
    "    if j > k:\n",
    "        print(\"j is largest number\")\n",
    "    else:\n",
    "        print(\"k is largest number\")"
   ]
  },
  {
   "cell_type": "markdown",
   "id": "9e75cac1",
   "metadata": {},
   "source": [
    "### for loop"
   ]
  },
  {
   "cell_type": "code",
   "execution_count": 108,
   "id": "fbe061ce",
   "metadata": {},
   "outputs": [
    {
     "name": "stdout",
     "output_type": "stream",
     "text": [
      "0\n",
      "1\n",
      "2\n",
      "3\n",
      "4\n",
      "5\n",
      "6\n",
      "7\n",
      "8\n",
      "9\n"
     ]
    }
   ],
   "source": [
    "for i in range(10):\n",
    "    print(i)"
   ]
  },
  {
   "cell_type": "code",
   "execution_count": 110,
   "id": "d8392818",
   "metadata": {},
   "outputs": [
    {
     "name": "stdout",
     "output_type": "stream",
     "text": [
      "6\n",
      "7\n",
      "8\n",
      "9\n",
      "10\n",
      "11\n",
      "12\n",
      "13\n",
      "14\n",
      "15\n"
     ]
    }
   ],
   "source": [
    "for i in range(6, 16):\n",
    "    print(i)"
   ]
  },
  {
   "cell_type": "code",
   "execution_count": 111,
   "id": "93390ed7",
   "metadata": {},
   "outputs": [
    {
     "name": "stdout",
     "output_type": "stream",
     "text": [
      "0\n",
      "1\n",
      "2\n",
      "3\n",
      "4\n",
      "Count over!\n"
     ]
    }
   ],
   "source": [
    "# at the end of for loop\n",
    "\n",
    "for i in range(5):\n",
    "    print(i)\n",
    "else:\n",
    "    print(\"Count over!\")"
   ]
  },
  {
   "cell_type": "raw",
   "id": "38153a05",
   "metadata": {},
   "source": [
    "To break a for loop, 'break' statement can be used anywhere in the loop."
   ]
  },
  {
   "cell_type": "markdown",
   "id": "f478cb0f",
   "metadata": {},
   "source": [
    "### while loop"
   ]
  },
  {
   "cell_type": "code",
   "execution_count": 115,
   "id": "272357a8",
   "metadata": {},
   "outputs": [
    {
     "name": "stdout",
     "output_type": "stream",
     "text": [
      "1\n",
      "2\n",
      "3\n",
      "4\n",
      "5\n",
      "6\n",
      "7\n",
      "8\n",
      "9\n",
      "10\n",
      "The sum is:  55\n"
     ]
    }
   ],
   "source": [
    "counter = 1\n",
    "\n",
    "while counter <= 10:\n",
    "    print(counter)\n",
    "    counter += 1\n",
    "\n",
    "\n",
    "sum = 0\n",
    "counter = 1\n",
    "\n",
    "while counter <= 10:\n",
    "    sum += counter\n",
    "    counter += 1\n",
    "\n",
    "print('The sum is: ', sum)"
   ]
  },
  {
   "cell_type": "markdown",
   "id": "69133778",
   "metadata": {},
   "source": [
    "## Regular expressions"
   ]
  },
  {
   "cell_type": "code",
   "execution_count": 117,
   "id": "717c296c",
   "metadata": {},
   "outputs": [
    {
     "name": "stdout",
     "output_type": "stream",
     "text": [
      "Match not found\n"
     ]
    }
   ],
   "source": [
    "import re\n",
    "\n",
    "# define a pattern that starts with C and ends with M \n",
    "pattern = '^C..M$'\n",
    "\n",
    "str = 'CGIMites'\n",
    "\n",
    "result = re.match(pattern, str)\n",
    "\n",
    "if result:\n",
    "    print(\"Match found\")\n",
    "else:\n",
    "    print(\"Match not found\")"
   ]
  },
  {
   "cell_type": "code",
   "execution_count": 118,
   "id": "c432c9bb",
   "metadata": {},
   "outputs": [
    {
     "name": "stdout",
     "output_type": "stream",
     "text": [
      "['5', '4', '1']\n"
     ]
    }
   ],
   "source": [
    "import re\n",
    "\n",
    "# find numbers\n",
    "pattern = '\\d+'\n",
    "\n",
    "str = 'Adam had 5 apples. He 4 of them to Eve. How he has only 1 apple left.'\n",
    "\n",
    "result = re.findall(pattern, str)\n",
    "\n",
    "print(result)"
   ]
  },
  {
   "cell_type": "code",
   "execution_count": 126,
   "id": "643ce819",
   "metadata": {},
   "outputs": [
    {
     "name": "stdout",
     "output_type": "stream",
     "text": [
      "['11', '845', '65039']\n"
     ]
    }
   ],
   "source": [
    "import re\n",
    "\n",
    "# find all numbers \n",
    "pattern = '[0-9]+'\n",
    "\n",
    "str = 'The budget is deficit by 11 % and total value was 845 millions. The affected population was 65039 .'\n",
    "\n",
    "result = re.findall(pattern, str)\n",
    "\n",
    "print(result)"
   ]
  },
  {
   "cell_type": "markdown",
   "id": "b96eb97e",
   "metadata": {},
   "source": [
    "## Functions"
   ]
  },
  {
   "cell_type": "markdown",
   "id": "66508637",
   "metadata": {},
   "source": [
    "Functions can return multiple values!"
   ]
  },
  {
   "cell_type": "code",
   "execution_count": 131,
   "id": "0c3b2116",
   "metadata": {},
   "outputs": [
    {
     "data": {
      "text/plain": [
       "(1, 9)"
      ]
     },
     "execution_count": 131,
     "metadata": {},
     "output_type": "execute_result"
    }
   ],
   "source": [
    "def min_max(lst):\n",
    "    return min(lst), max(lst)\n",
    "\n",
    "my_list = [3, 6, 1, 9, 2]\n",
    "\n",
    "min_max(my_list)"
   ]
  },
  {
   "cell_type": "markdown",
   "id": "ac48252e",
   "metadata": {},
   "source": [
    "## Object oriented programming"
   ]
  },
  {
   "cell_type": "code",
   "execution_count": 138,
   "id": "68e69bac",
   "metadata": {},
   "outputs": [
    {
     "data": {
      "text/plain": [
       "'RamParajuli'"
      ]
     },
     "execution_count": 138,
     "metadata": {},
     "output_type": "execute_result"
    }
   ],
   "source": [
    "class Person:\n",
    "    def __init__(self, fname, mname, lname):\n",
    "        self.first_name = fname\n",
    "        self.middle_name = mname\n",
    "        self.last_name = lname\n",
    "    \n",
    "    def fullname(self):\n",
    "        return self.first_name + self.middle_name + self.last_name\n",
    "    \n",
    "    def set_first_name(self, fname):\n",
    "        self.first_name = fname\n",
    "        \n",
    "p1 = Person('Pramod', '', 'Parajuli')\n",
    "p1.fullname()\n",
    "\n",
    "p1.set_first_name(\"Ram\")\n",
    "p1.fullname()"
   ]
  },
  {
   "cell_type": "markdown",
   "id": "9b63f734",
   "metadata": {},
   "source": [
    "## Using libraries"
   ]
  },
  {
   "cell_type": "code",
   "execution_count": 140,
   "id": "1339b2b6",
   "metadata": {},
   "outputs": [
    {
     "data": {
      "text/plain": [
       "array([67, 40])"
      ]
     },
     "execution_count": 140,
     "metadata": {},
     "output_type": "execute_result"
    }
   ],
   "source": [
    "import numpy as np\n",
    "\n",
    "mat_a = [2, 3, 4]\n",
    "mat_b = [ [5, 6],\n",
    "        [7, 8],\n",
    "        [9, 1]]\n",
    "\n",
    "np.matmul(mat_a, mat_b)\n"
   ]
  },
  {
   "cell_type": "code",
   "execution_count": 141,
   "id": "b0d9506a",
   "metadata": {},
   "outputs": [
    {
     "data": {
      "text/plain": [
       "array([67, 40, 19])"
      ]
     },
     "execution_count": 141,
     "metadata": {},
     "output_type": "execute_result"
    }
   ],
   "source": [
    "import numpy as np\n",
    "\n",
    "mat_a = [2, 3, 4]\n",
    "mat_b = [ [5, 6, 1],\n",
    "        [7, 8, 3],\n",
    "        [9, 1, 2]]\n",
    "\n",
    "np.matmul(mat_a, mat_b)"
   ]
  },
  {
   "cell_type": "code",
   "execution_count": 143,
   "id": "7a0711e1",
   "metadata": {},
   "outputs": [
    {
     "data": {
      "text/plain": [
       "array([67, 40])"
      ]
     },
     "execution_count": 143,
     "metadata": {},
     "output_type": "execute_result"
    }
   ],
   "source": [
    "import numpy as np\n",
    "\n",
    "mat_a = [2, 3, 4]\n",
    "mat_b = [ [5, 6],\n",
    "        [7, 8],\n",
    "        [9, 1]]\n",
    "\n",
    "np.matmul(mat_a, mat_b)"
   ]
  },
  {
   "cell_type": "code",
   "execution_count": 144,
   "id": "7fcbff4c",
   "metadata": {},
   "outputs": [
    {
     "data": {
      "text/plain": [
       "array([[ 67,  40],\n",
       "       [256, 175]])"
      ]
     },
     "execution_count": 144,
     "metadata": {},
     "output_type": "execute_result"
    }
   ],
   "source": [
    "import numpy as np\n",
    "\n",
    "mat_a = [[2, 3, 4],\n",
    "         [11, 12, 13]]\n",
    "mat_b = [ [5, 6],\n",
    "        [7, 8],\n",
    "        [9, 1]]\n",
    "\n",
    "np.matmul(mat_a, mat_b)"
   ]
  },
  {
   "cell_type": "code",
   "execution_count": 145,
   "id": "9397a0f6",
   "metadata": {},
   "outputs": [
    {
     "data": {
      "text/plain": [
       "array([[ 67,  40],\n",
       "       [256, 175]])"
      ]
     },
     "execution_count": 145,
     "metadata": {},
     "output_type": "execute_result"
    }
   ],
   "source": [
    "import numpy as np\n",
    "\n",
    "mat_a = [[2, 3, 4],\n",
    "         [11, 12, 13]]\n",
    "mat_b = [ [5, 6],\n",
    "        [7, 8],\n",
    "        [9, 1]]\n",
    "\n",
    "np.dot(mat_a, mat_b)"
   ]
  },
  {
   "cell_type": "code",
   "execution_count": 147,
   "id": "f1bb04c3",
   "metadata": {},
   "outputs": [
    {
     "data": {
      "text/plain": [
       "56"
      ]
     },
     "execution_count": 147,
     "metadata": {},
     "output_type": "execute_result"
    }
   ],
   "source": [
    "import numpy as np\n",
    "\n",
    "mat_a = [2, 3, 4]\n",
    "mat_b = [5, 6, 7]\n",
    "\n",
    "np.dot(mat_a, mat_b)"
   ]
  },
  {
   "cell_type": "markdown",
   "id": "2566ae76",
   "metadata": {},
   "source": [
    "## Dictionary"
   ]
  },
  {
   "cell_type": "code",
   "execution_count": 1,
   "id": "bf378368",
   "metadata": {},
   "outputs": [],
   "source": [
    "dict = {'fname':'Elton', 'lname':'John'}"
   ]
  },
  {
   "cell_type": "code",
   "execution_count": 2,
   "id": "d4c69c29",
   "metadata": {},
   "outputs": [
    {
     "data": {
      "text/plain": [
       "{'fname': 'Elton', 'lname': 'John'}"
      ]
     },
     "execution_count": 2,
     "metadata": {},
     "output_type": "execute_result"
    }
   ],
   "source": [
    "dict"
   ]
  },
  {
   "cell_type": "code",
   "execution_count": 3,
   "id": "aa4cd13a",
   "metadata": {},
   "outputs": [
    {
     "data": {
      "text/plain": [
       "'Elton'"
      ]
     },
     "execution_count": 3,
     "metadata": {},
     "output_type": "execute_result"
    }
   ],
   "source": [
    "dict['fname']"
   ]
  },
  {
   "cell_type": "code",
   "execution_count": 4,
   "id": "5f53ebbd",
   "metadata": {},
   "outputs": [
    {
     "name": "stdout",
     "output_type": "stream",
     "text": [
      "fname\n",
      "lname\n"
     ]
    }
   ],
   "source": [
    "for key in dict:\n",
    "    print(key)"
   ]
  },
  {
   "cell_type": "code",
   "execution_count": 7,
   "id": "0b15c6d9",
   "metadata": {},
   "outputs": [
    {
     "name": "stdout",
     "output_type": "stream",
     "text": [
      "Elton\n",
      "John\n",
      "Captain and the Kid\n"
     ]
    }
   ],
   "source": [
    "for key in dict:\n",
    "    print( dict[key] )"
   ]
  },
  {
   "cell_type": "code",
   "execution_count": 6,
   "id": "3a54e03b",
   "metadata": {},
   "outputs": [],
   "source": [
    "dict['album'] = 'Captain and the Kid'"
   ]
  },
  {
   "cell_type": "code",
   "execution_count": 9,
   "id": "b158f133",
   "metadata": {},
   "outputs": [],
   "source": [
    "marks = {}.fromkeys(['Math', 'English', 'Science'], 0)"
   ]
  },
  {
   "cell_type": "code",
   "execution_count": 10,
   "id": "2c112dce",
   "metadata": {},
   "outputs": [
    {
     "data": {
      "text/plain": [
       "{'Math': 0, 'English': 0, 'Science': 0}"
      ]
     },
     "execution_count": 10,
     "metadata": {},
     "output_type": "execute_result"
    }
   ],
   "source": [
    "marks"
   ]
  },
  {
   "cell_type": "code",
   "execution_count": 11,
   "id": "5342728c",
   "metadata": {},
   "outputs": [],
   "source": [
    "squares = {x : x*x for x in range(5) }"
   ]
  },
  {
   "cell_type": "code",
   "execution_count": 12,
   "id": "46d1b107",
   "metadata": {},
   "outputs": [
    {
     "data": {
      "text/plain": [
       "{0: 0, 1: 1, 2: 4, 3: 9, 4: 16}"
      ]
     },
     "execution_count": 12,
     "metadata": {},
     "output_type": "execute_result"
    }
   ],
   "source": [
    "squares"
   ]
  },
  {
   "cell_type": "code",
   "execution_count": 15,
   "id": "d7fa8c5b",
   "metadata": {},
   "outputs": [],
   "source": [
    "if 3 < 4 and 4 > 5:\n",
    "    print('true')"
   ]
  },
  {
   "cell_type": "code",
   "execution_count": null,
   "id": "e9d031f3",
   "metadata": {},
   "outputs": [],
   "source": []
  },
  {
   "cell_type": "markdown",
   "id": "db5867d5",
   "metadata": {},
   "source": [
    "## Regular expressions"
   ]
  },
  {
   "cell_type": "code",
   "execution_count": 18,
   "id": "2ec08a0d",
   "metadata": {},
   "outputs": [
    {
     "name": "stdout",
     "output_type": "stream",
     "text": [
      "Match found\n"
     ]
    }
   ],
   "source": [
    "import re\n",
    "\n",
    "pattern = '^C..M$'\n",
    "\n",
    "str = 'CXYM'\n",
    "\n",
    "result = re.match(pattern, str)\n",
    "\n",
    "if result:\n",
    "    print(\"Match found\")\n",
    "else:\n",
    "    print(\"Match not found\")"
   ]
  },
  {
   "cell_type": "code",
   "execution_count": 19,
   "id": "c26c5abd",
   "metadata": {},
   "outputs": [
    {
     "name": "stdout",
     "output_type": "stream",
     "text": [
      "['5', '4', '1']\n"
     ]
    }
   ],
   "source": [
    "import re\n",
    "\n",
    "pattern = '\\d+'\n",
    "\n",
    "str = 'Adam had 5 apples. He gave 4 to Eve. Now he has only 1 apple left.'\n",
    "\n",
    "result = re.findall(pattern, str)\n",
    "\n",
    "print(result)"
   ]
  },
  {
   "cell_type": "code",
   "execution_count": 20,
   "id": "42e4732b",
   "metadata": {},
   "outputs": [
    {
     "name": "stdout",
     "output_type": "stream",
     "text": [
      "['11', '845']\n"
     ]
    }
   ],
   "source": [
    "import re\n",
    "\n",
    "pattern = '[0-9]+'\n",
    "\n",
    "str = 'The budget is deficit by 11 % and total value was 845 millions'\n",
    "\n",
    "result = re.findall(pattern, str)\n",
    "\n",
    "print( result )"
   ]
  },
  {
   "cell_type": "markdown",
   "id": "cdd4456a",
   "metadata": {},
   "source": [
    "# Using library"
   ]
  },
  {
   "cell_type": "code",
   "execution_count": 21,
   "id": "d0244da5",
   "metadata": {},
   "outputs": [
    {
     "data": {
      "text/plain": [
       "array([45, 24])"
      ]
     },
     "execution_count": 21,
     "metadata": {},
     "output_type": "execute_result"
    }
   ],
   "source": [
    "import numpy as np\n",
    "\n",
    "mat_a = [1, 2, 3]\n",
    "\n",
    "mat_b = [[4, 5],\n",
    "        [7, 8],\n",
    "        [9, 1]]\n",
    "\n",
    "np.matmul(mat_a, mat_b)"
   ]
  },
  {
   "cell_type": "code",
   "execution_count": 22,
   "id": "9b1639fa",
   "metadata": {},
   "outputs": [
    {
     "data": {
      "text/plain": [
       "array([45, 24])"
      ]
     },
     "execution_count": 22,
     "metadata": {},
     "output_type": "execute_result"
    }
   ],
   "source": [
    "np.dot(mat_a, mat_b)"
   ]
  },
  {
   "cell_type": "code",
   "execution_count": 23,
   "id": "25b5d44c",
   "metadata": {},
   "outputs": [],
   "source": [
    "mat_b = [5, 6, 7]"
   ]
  },
  {
   "cell_type": "code",
   "execution_count": 24,
   "id": "b990b2bc",
   "metadata": {},
   "outputs": [
    {
     "data": {
      "text/plain": [
       "38"
      ]
     },
     "execution_count": 24,
     "metadata": {},
     "output_type": "execute_result"
    }
   ],
   "source": [
    "np.dot(mat_a, mat_b)"
   ]
  },
  {
   "cell_type": "code",
   "execution_count": null,
   "id": "0d669b2d",
   "metadata": {},
   "outputs": [],
   "source": []
  }
 ],
 "metadata": {
  "kernelspec": {
   "display_name": "Python 3 (ipykernel)",
   "language": "python",
   "name": "python3"
  },
  "language_info": {
   "codemirror_mode": {
    "name": "ipython",
    "version": 3
   },
   "file_extension": ".py",
   "mimetype": "text/x-python",
   "name": "python",
   "nbconvert_exporter": "python",
   "pygments_lexer": "ipython3",
   "version": "3.11.0"
  }
 },
 "nbformat": 4,
 "nbformat_minor": 5
}
