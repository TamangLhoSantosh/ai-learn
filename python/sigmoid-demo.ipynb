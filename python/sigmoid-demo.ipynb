{
 "cells": [
  {
   "cell_type": "markdown",
   "id": "8126db5a",
   "metadata": {},
   "source": [
    "# ANN learning using sigmoid activation function and error gradient"
   ]
  },
  {
   "cell_type": "markdown",
   "id": "881e6761",
   "metadata": {},
   "source": [
    "## Basic structures and functions"
   ]
  },
  {
   "cell_type": "code",
   "execution_count": 14,
   "id": "b06ae491",
   "metadata": {},
   "outputs": [],
   "source": [
    "import numpy as np\n",
    "from matplotlib import pyplot as plt\n",
    "\n",
    "# functional output\n",
    "def fy(x, w):    \n",
    "    return np.dot(x, w)\n",
    "\n",
    "# sigmoid activation function\n",
    "def sigmoid(x):\n",
    "    return 1/(1 + np.exp(-x))\n",
    "\n",
    "# sigmoid derivative for gradient\n",
    "def sigmoid_derivative(x):\n",
    "    return x * (1 - x)\n",
    "\n",
    "# error\n",
    "def error(activation, expected):    \n",
    "    return np.subtract(expected, activation)\n",
    "    # return np.square(np.sum(np.subtract(expected, activation)))/2\n",
    "\n",
    "# weight update\n",
    "def wt(wt_1, x, error, learning_rate):\n",
    "    return wt_1 + (x * error * learning_rate)\n",
    "\n",
    "# simple neural structure with 1 neuron\n",
    "class SimpleNN:      \n",
    "    # A set of bias, x1, x2, class label\n",
    "    training_data = np.array([[-1, 1, 1, 1],\n",
    "                              [-1, 1, 0, 1],\n",
    "                              [-1, 0, 1, 1],\n",
    "                              [-1, 0, 0, 0]])\n",
    "\n",
    "    # a set of random weights\n",
    "    weights = np.array([0, 0.5, 0.7])\n",
    "\n",
    "    #learning rate\n",
    "    learning_rate = 0.9\n",
    "    \n",
    "    # splitting input and output from training data\n",
    "    input_data = training_data[:, [0, 1, 2]]\n",
    "\n",
    "    desired_output = training_data[:, [3]].T[0]   "
   ]
  },
  {
   "cell_type": "markdown",
   "id": "f1d13f1b",
   "metadata": {},
   "source": [
    "## Testing the structures"
   ]
  },
  {
   "cell_type": "code",
   "execution_count": 15,
   "id": "d296edd5",
   "metadata": {},
   "outputs": [
    {
     "name": "stdout",
     "output_type": "stream",
     "text": [
      "Training data [[-1  1  1  1]\n",
      " [-1  1  0  1]\n",
      " [-1  0  1  1]\n",
      " [-1  0  0  0]]\n",
      "Weights [0.  0.5 0.7]\n",
      "Learning rate:  0.9\n",
      "Input data [[-1  1  1]\n",
      " [-1  1  0]\n",
      " [-1  0  1]\n",
      " [-1  0  0]]\n",
      "Desired output [1 1 1 0]\n"
     ]
    }
   ],
   "source": [
    "snn = SimpleNN()\n",
    "\n",
    "print(\"Training data\", snn.training_data)\n",
    "print(\"Weights\", snn.weights)\n",
    "print(\"Learning rate: \", snn.learning_rate)\n",
    "print(\"Input data\", snn.input_data)\n",
    "print(\"Desired output\", snn.desired_output)"
   ]
  },
  {
   "cell_type": "markdown",
   "id": "773420a9",
   "metadata": {},
   "source": [
    "## Testing the functions"
   ]
  },
  {
   "cell_type": "code",
   "execution_count": 16,
   "id": "cd094268",
   "metadata": {},
   "outputs": [
    {
     "name": "stdout",
     "output_type": "stream",
     "text": [
      "Functional output [1.2 0.5 0.7 0. ]\n",
      "Sigmoid output [0.77 0.62 0.67 0.5 ]\n",
      "Sigmoid derivative [0.18 0.24 0.22 0.25]\n",
      "Error [ 0.23  0.38  0.33 -0.5 ]\n",
      "Output error [ 0.04  0.09  0.07 -0.12]\n"
     ]
    }
   ],
   "source": [
    "# testing feed forward\n",
    "fo = np.array(fy(snn.input_data, snn.weights))\n",
    "sig_o = np.array([sigmoid(o) for o in fo])\n",
    "sig_d = sigmoid_derivative(sig_o)\n",
    "\n",
    "# testing back propagation\n",
    "err = error(sig_o, snn.desired_output)\n",
    "output_err = err * sig_d\n",
    "\n",
    "print(\"Functional output\", fo)\n",
    "print(\"Sigmoid output\", sig_o)\n",
    "print(\"Sigmoid derivative\", sig_d)\n",
    "print(\"Error\", err)\n",
    "print(\"Output error\", output_err)"
   ]
  },
  {
   "cell_type": "markdown",
   "id": "c0488dd1",
   "metadata": {},
   "source": [
    "## Learning algorithm using sigmoid activation function and error gradient"
   ]
  },
  {
   "cell_type": "code",
   "execution_count": 20,
   "id": "3c1716a8",
   "metadata": {},
   "outputs": [
    {
     "name": "stdout",
     "output_type": "stream",
     "text": [
      "Epoch 1\n",
      "|weights             |     inputs     | desired_output |   fo   | sig_o  | sig_d  |  err   |  output_err|\n",
      "|[0.  0.5 0.7]       |   [-1  1  1]   |       1        |  1.20  |  0.77  |  0.18  |  0.23  |        0.04|\n",
      "|[-0.04  0.54  0.74] |   [-1  1  0]   |       1        |  0.57  |  0.64  |  0.23  |  0.36  |        0.08|\n",
      "|[-0.11  0.61  0.74] |   [-1  0  1]   |       1        |  0.85  |  0.70  |  0.21  |  0.30  |        0.06|\n",
      "|[-0.17  0.61  0.79] |   [-1  0  0]   |       0        |  0.17  |  0.54  |  0.25  | -0.54  |       -0.13|\n",
      "Mean square error (actual error) in the epoch:  0.00766\n",
      "\n",
      "Epoch 2\n",
      "|weights             |     inputs     | desired_output |   fo   | sig_o  | sig_d  |  err   |  output_err|\n",
      "|[-0.05  0.61  0.79] |   [-1  1  1]   |       1        |  1.45  |  0.81  |  0.15  |  0.19  |        0.03|\n",
      "|[-0.07  0.64  0.82] |   [-1  1  0]   |       1        |  0.71  |  0.67  |  0.22  |  0.33  |        0.07|\n",
      "|[-0.14  0.7   0.82] |   [-1  0  1]   |       1        |  0.96  |  0.72  |  0.20  |  0.28  |        0.06|\n",
      "|[-0.19  0.7   0.87] |   [-1  0  0]   |       0        |  0.19  |  0.55  |  0.25  | -0.55  |       -0.14|\n",
      "Mean square error (actual error) in the epoch:  0.00690\n",
      "\n",
      "Epoch 3\n",
      "|weights             |     inputs     | desired_output |   fo   | sig_o  | sig_d  |  err   |  output_err|\n",
      "|[-0.07  0.7   0.87] |   [-1  1  1]   |       1        |  1.64  |  0.84  |  0.14  |  0.16  |        0.02|\n",
      "|[-0.09  0.72  0.89] |   [-1  1  0]   |       1        |  0.81  |  0.69  |  0.21  |  0.31  |        0.07|\n",
      "|[-0.15  0.78  0.89] |   [-1  0  1]   |       1        |  1.04  |  0.74  |  0.19  |  0.26  |        0.05|\n",
      "|[-0.19  0.78  0.94] |   [-1  0  0]   |       0        |  0.19  |  0.55  |  0.25  | -0.55  |       -0.14|\n",
      "Mean square error (actual error) in the epoch:  0.00644\n",
      "\n",
      "Epoch 4\n",
      "|weights             |     inputs     | desired_output |   fo   | sig_o  | sig_d  |  err   |  output_err|\n",
      "|[-0.07  0.78  0.94] |   [-1  1  1]   |       1        |  1.79  |  0.86  |  0.12  |  0.14  |        0.02|\n",
      "|[-0.09  0.8   0.95] |   [-1  1  0]   |       1        |  0.88  |  0.71  |  0.21  |  0.29  |        0.06|\n",
      "|[-0.14  0.85  0.95] |   [-1  0  1]   |       1        |  1.09  |  0.75  |  0.19  |  0.25  |        0.05|\n",
      "|[-0.18  0.85  0.99] |   [-1  0  0]   |       0        |  0.18  |  0.55  |  0.25  | -0.55  |       -0.14|\n",
      "Mean square error (actual error) in the epoch:  0.00613\n",
      "\n",
      "Epoch 5\n",
      "|weights             |     inputs     | desired_output |   fo   | sig_o  | sig_d  |  err   |  output_err|\n",
      "|[-0.06  0.85  0.99] |   [-1  1  1]   |       1        |  1.91  |  0.87  |  0.11  |  0.13  |        0.01|\n",
      "|[-0.07  0.87  1.01] |   [-1  1  0]   |       1        |  0.94  |  0.72  |  0.20  |  0.28  |        0.06|\n",
      "|[-0.12  0.92  1.01] |   [-1  0  1]   |       1        |  1.13  |  0.76  |  0.18  |  0.24  |        0.04|\n",
      "|[-0.17  0.92  1.05] |   [-1  0  0]   |       0        |  0.17  |  0.54  |  0.25  | -0.54  |       -0.13|\n",
      "Mean square error (actual error) in the epoch:  0.00588\n",
      "\n",
      "Epoch 6\n",
      "|weights             |     inputs     | desired_output |   fo   | sig_o  | sig_d  |  err   |  output_err|\n",
      "|[-0.04  0.92  1.05] |   [-1  1  1]   |       1        |  2.01  |  0.88  |  0.10  |  0.12  |        0.01|\n",
      "|[-0.06  0.93  1.06] |   [-1  1  0]   |       1        |  0.98  |  0.73  |  0.20  |  0.27  |        0.05|\n",
      "|[-0.1   0.98  1.06] |   [-1  0  1]   |       1        |  1.16  |  0.76  |  0.18  |  0.24  |        0.04|\n",
      "|[-0.14  0.98  1.1 ] |   [-1  0  0]   |       0        |  0.14  |  0.54  |  0.25  | -0.54  |       -0.13|\n",
      "Mean square error (actual error) in the epoch:  0.00567\n",
      "\n",
      "Epoch 7\n",
      "|weights             |     inputs     | desired_output |   fo   | sig_o  | sig_d  |  err   |  output_err|\n",
      "|[-0.02  0.98  1.1 ] |   [-1  1  1]   |       1        |  2.10  |  0.89  |  0.10  |  0.11  |        0.01|\n",
      "|[-0.03  0.99  1.11] |   [-1  1  0]   |       1        |  1.02  |  0.73  |  0.19  |  0.27  |        0.05|\n",
      "|[-0.08  1.03  1.11] |   [-1  0  1]   |       1        |  1.19  |  0.77  |  0.18  |  0.23  |        0.04|\n",
      "|[-0.12  1.03  1.14] |   [-1  0  0]   |       0        |  0.12  |  0.53  |  0.25  | -0.53  |       -0.13|\n",
      "Mean square error (actual error) in the epoch:  0.00548\n",
      "\n",
      "Epoch 8\n",
      "|weights             |     inputs     | desired_output |   fo   | sig_o  | sig_d  |  err   |  output_err|\n",
      "|[0.   1.03 1.14]    |   [-1  1  1]   |       1        |  2.18  |  0.90  |  0.09  |  0.10  |        0.01|\n",
      "|[-0.01  1.04  1.15] |   [-1  1  0]   |       1        |  1.05  |  0.74  |  0.19  |  0.26  |        0.05|\n",
      "|[-0.05  1.09  1.15] |   [-1  0  1]   |       1        |  1.20  |  0.77  |  0.18  |  0.23  |        0.04|\n",
      "|[-0.09  1.09  1.19] |   [-1  0  0]   |       0        |  0.09  |  0.52  |  0.25  | -0.52  |       -0.13|\n",
      "Mean square error (actual error) in the epoch:  0.00531\n",
      "\n",
      "Epoch 9\n",
      "|weights             |     inputs     | desired_output |   fo   | sig_o  | sig_d  |  err   |  output_err|\n",
      "|[0.03 1.09 1.19]    |   [-1  1  1]   |       1        |  2.25  |  0.90  |  0.09  |  0.10  |        0.01|\n",
      "|[0.02 1.09 1.2 ]    |   [-1  1  0]   |       1        |  1.07  |  0.74  |  0.19  |  0.26  |        0.05|\n",
      "|[-0.02  1.14  1.2 ] |   [-1  0  1]   |       1        |  1.22  |  0.77  |  0.18  |  0.23  |        0.04|\n",
      "|[-0.06  1.14  1.23] |   [-1  0  0]   |       0        |  0.06  |  0.51  |  0.25  | -0.51  |       -0.13|\n",
      "Mean square error (actual error) in the epoch:  0.00514\n",
      "\n",
      "Final weights:  [0.06 1.14 1.23]\n"
     ]
    }
   ],
   "source": [
    "precision = 2\n",
    "np.set_printoptions(precision=precision)\n",
    "\n",
    "    \n",
    "# preparing initial data for training\n",
    "w = snn.weights\n",
    "\n",
    "counter = 0\n",
    "epoch = 1\n",
    "\n",
    "# log MSE of each epoch then plot them afterwards\n",
    "epoch_errors_log = []\n",
    "\n",
    "# if output equals desired output, no need to train\n",
    "while epoch < 10:\n",
    "   \n",
    "    print(\"Epoch\", epoch)    \n",
    "    print(\"|{:<20}|{:^16}|{:^16}|{:^8}|{:^8}|{:^8}|{:^8}|{:>12}|\".format('weights', \n",
    "                                                                             'inputs', \n",
    "                                                                             'desired_output' , \n",
    "                                                                             'fo', \n",
    "                                                                             'sig_o', \n",
    "                                                                             'sig_d', \n",
    "                                                                             'err', \n",
    "                                                                             'output_err'))\n",
    "    \n",
    "    epoch_error = []\n",
    "    \n",
    "    # in each epoch, iterate through all training data\n",
    "    for x in snn.input_data:\n",
    "        current_input = snn.input_data[counter%4]\n",
    "        desired_output = snn.desired_output[counter%4]\n",
    "        \n",
    "        # feed-forward \n",
    "        fo = fy(current_input, w)\n",
    "        sig_o = sigmoid(fo)      \n",
    "        \n",
    "        # back propagation\n",
    "        err = desired_output - sig_o\n",
    "        sig_d = sigmoid_derivative(sig_o)\n",
    "        output_err = err * sig_d\n",
    "        \n",
    "        epoch_error.append(output_err)\n",
    "        \n",
    "        # check error for current iteration i.e. current set of inputs. \n",
    "        # Current set of inputs can be located by using index of current set i.e. counter % 4 since there are 4 sample data\n",
    "        \n",
    "        print(\"|{:<20}|{:^16}|{:^16}|{:^8}|{:^8}|{:^8}|{:^8}|{:>12}|\".format(str(w),\n",
    "                                                                                 str(x),\n",
    "                                                                                 str(desired_output),\n",
    "                                                                                 \"{:.{}f}\".format(fo, precision),\n",
    "                                                                                 \"{:.{}f}\".format(sig_o, precision), \n",
    "                                                                                 \"{:.{}f}\".format(sig_d, precision),\n",
    "                                                                                 \"{:.{}f}\".format(err, precision),\n",
    "                                                                                 \"{:.{}f}\".format(output_err, precision)))\n",
    "                                                                                 \n",
    "              # \"\\t\\t\", \"{:.{}f}\".format(output_err,precision), \n",
    "              # \"\\t\\t\\t\", \"{:.{}f}\".format(sig_o,precision)) \n",
    "        w = wt(w, current_input, output_err, snn.learning_rate)\n",
    "        \n",
    "        # end of back propagation\n",
    "                               \n",
    "        counter += 1\n",
    "        \n",
    "    mse = np.sum(np.square(epoch_error))/4\n",
    "    epoch_errors_log.append(mse)\n",
    "    print(\"Mean square error (actual error) in the epoch: \", \"{:.{}f}\\n\".format(mse, 5))\n",
    "        \n",
    "    epoch += 1\n",
    "\n",
    "\n",
    "print(\"Final weights: \", w)"
   ]
  },
  {
   "cell_type": "markdown",
   "id": "654d188a",
   "metadata": {},
   "source": [
    "## Visualizing the error"
   ]
  },
  {
   "cell_type": "code",
   "execution_count": 21,
   "id": "a74992ea",
   "metadata": {},
   "outputs": [
    {
     "data": {
      "image/png": "[encoded data removed]",
      "text/plain": [
       "<Figure size 640x480 with 1 Axes>"
      ]
     },
     "metadata": {},
     "output_type": "display_data"
    }
   ],
   "source": [
    "plt.clf()\n",
    "plt.plot(epoch_errors_log, color='red', marker='o', linestyle='solid')\n",
    "plt.xticks(np.arange(len(epoch_errors_log)), np.arange(1, len(epoch_errors_log)+1))\n",
    "plt.xlabel(\"Epoch\")\n",
    "plt.ylabel(\"MSE in each epoch\")\n",
    "plt.title(\"Visualizing the error\")\n",
    "plt.show()"
   ]
  },
  {
   "cell_type": "markdown",
   "id": "acab9735",
   "metadata": {},
   "source": [
    "## Test the output with learned weights"
   ]
  },
  {
   "cell_type": "code",
   "execution_count": 22,
   "id": "fbdc9196",
   "metadata": {},
   "outputs": [
    {
     "name": "stdout",
     "output_type": "stream",
     "text": [
      "2.3131494022285346\n",
      "1.0796364267477023\n",
      "1.1760815708393777\n",
      "-0.05743140464145447\n"
     ]
    }
   ],
   "source": [
    "# test and check outputs for AND and OR gates\n",
    "\n",
    "print(np.dot(snn.training_data[0][:3], w))\n",
    "print(np.dot(snn.training_data[1][:3], w))\n",
    "print(np.dot(snn.training_data[2][:3], w))\n",
    "print(np.dot(snn.training_data[3][:3], w))"
   ]
  }
 ],
 "metadata": {
  "kernelspec": {
   "display_name": "Python 3 (ipykernel)",
   "language": "python",
   "name": "python3"
  },
  "language_info": {
   "codemirror_mode": {
    "name": "ipython",
    "version": 3
   },
   "file_extension": ".py",
   "mimetype": "text/x-python",
   "name": "python",
   "nbconvert_exporter": "python",
   "pygments_lexer": "ipython3",
   "version": "3.11.0"
  }
 },
 "nbformat": 4,
 "nbformat_minor": 5
}
