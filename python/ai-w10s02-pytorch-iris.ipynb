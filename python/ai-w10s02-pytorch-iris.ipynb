{
  "nbformat": 4,
  "nbformat_minor": 0,
  "metadata": {
    "colab": {
      "provenance": []
    },
    "kernelspec": {
      "name": "python3",
      "display_name": "Python 3"
    },
    "language_info": {
      "name": "python"
    }
  },
  "cells": [
    {
      "cell_type": "markdown",
      "source": [
        "# Basics of PyTorch\n",
        "\n",
        "Reference: https://medium.com/analytics-vidhya/a-simple-neural-network-classifier-using-pytorch-from-scratch-7ebb477422d2"
      ],
      "metadata": {
        "id": "0R2A7QnH-jNF"
      }
    },
    {
      "cell_type": "markdown",
      "source": [
        "## Preparing the data sets"
      ],
      "metadata": {
        "id": "Qi3DOvnnoVOk"
      }
    },
    {
      "cell_type": "code",
      "source": [
        "from sklearn import datasets\n",
        "iris = datasets.load_iris()\n",
        "data = iris.data\n",
        "target = iris.target\n",
        "\n",
        "print(data[:5])\n",
        "print(target[:5])"
      ],
      "metadata": {
        "colab": {
          "base_uri": "https://localhost:8080/"
        },
        "id": "hIcIyj-gnfd0",
        "outputId": "14da95ff-ae98-48e7-e711-703d2bf5a84a"
      },
      "execution_count": null,
      "outputs": [
        {
          "output_type": "stream",
          "name": "stdout",
          "text": [
            "[[5.1 3.5 1.4 0.2]\n",
            " [4.9 3.  1.4 0.2]\n",
            " [4.7 3.2 1.3 0.2]\n",
            " [4.6 3.1 1.5 0.2]\n",
            " [5.  3.6 1.4 0.2]]\n",
            "[0 0 0 0 0]\n"
          ]
        }
      ]
    },
    {
      "cell_type": "markdown",
      "source": [
        "## Training and test data sets split"
      ],
      "metadata": {
        "id": "bWZhb8AdoaQp"
      }
    },
    {
      "cell_type": "code",
      "source": [
        "from sklearn.model_selection import train_test_split\n",
        "X_train, X_test, Y_train, Y_test = train_test_split(\n",
        "  data, target, test_size=0.33, random_state=42)\n",
        "\n",
        "print(X_train[:1])\n",
        "print(Y_train[:1])"
      ],
      "metadata": {
        "colab": {
          "base_uri": "https://localhost:8080/"
        },
        "id": "mG02T-dnuKuv",
        "outputId": "37e6be29-1a07-4057-9059-185ad6c72e45"
      },
      "execution_count": null,
      "outputs": [
        {
          "output_type": "stream",
          "name": "stdout",
          "text": [
            "[[5.7 2.9 4.2 1.3]]\n",
            "[1]\n"
          ]
        }
      ]
    },
    {
      "cell_type": "code",
      "source": [
        "# another way of splitting data\n",
        "'''\n",
        "gen_seed = torch.Generator().manual_seed(42)\n",
        "\n",
        "train_size = int(0.7 * len(data))\n",
        "test_size = len(data) - train_size\n",
        "\n",
        "train_dataset, test_dataset = torch.utils.data.random_split(data, [train_size, test_size], generator=gen_seed )\n",
        "train_target, test_target = torch.utils.data.random_split(target, [train_size, test_size], generator=gen_seed )\n",
        "\n",
        "print(train_dataset[:1])\n",
        "print(train_target[:1])\n",
        "\n",
        "print(test_dataset[:1])\n",
        "print(test_target[:1])\n",
        "'''"
      ],
      "metadata": {
        "id": "3QLPqPrypi8c"
      },
      "execution_count": null,
      "outputs": []
    },
    {
      "cell_type": "markdown",
      "source": [
        "## A simple data structure"
      ],
      "metadata": {
        "id": "SOICnhglrrnA"
      }
    },
    {
      "cell_type": "code",
      "source": [
        "import torch\n",
        "from torch.utils.data import Dataset\n",
        "import numpy as np\n",
        "\n",
        "class Data(Dataset):\n",
        "  def __init__(self, X_train, y_train):\n",
        "    # need to convert float64 to float32\n",
        "    self.X = torch.from_numpy(X_train.astype(np.float32))    \n",
        "\n",
        "    # need to convert float64 to Long\n",
        "    self.y = torch.from_numpy(y_train).type(torch.LongTensor)\n",
        "\n",
        "    self.len = self.X.shape[0]\n",
        "  \n",
        "  def __getitem__(self, index):\n",
        "    return self.X[index], self.y[index]\n",
        "  def __len__(self):\n",
        "    return self.len"
      ],
      "metadata": {
        "id": "tUvveE9CqWMz"
      },
      "execution_count": null,
      "outputs": []
    },
    {
      "cell_type": "code",
      "source": [
        "traindata = Data(X_train, Y_train)\n",
        "\n",
        "print(traindata[25:34])"
      ],
      "metadata": {
        "colab": {
          "base_uri": "https://localhost:8080/"
        },
        "id": "i7xHCj6wuuls",
        "outputId": "ce20b782-0491-4ad7-f687-d5b6d86e8f60"
      },
      "execution_count": null,
      "outputs": [
        {
          "output_type": "stream",
          "name": "stdout",
          "text": [
            "(tensor([[5.4000, 3.0000, 4.5000, 1.5000],\n",
            "        [6.2000, 3.4000, 5.4000, 2.3000],\n",
            "        [5.5000, 2.3000, 4.0000, 1.3000],\n",
            "        [5.4000, 3.9000, 1.7000, 0.4000],\n",
            "        [5.0000, 2.3000, 3.3000, 1.0000],\n",
            "        [6.4000, 2.7000, 5.3000, 1.9000],\n",
            "        [5.0000, 3.3000, 1.4000, 0.2000],\n",
            "        [5.0000, 3.2000, 1.2000, 0.2000],\n",
            "        [5.5000, 2.4000, 3.8000, 1.1000]]), tensor([1, 2, 1, 0, 1, 2, 0, 0, 1]))\n"
          ]
        }
      ]
    },
    {
      "cell_type": "markdown",
      "source": [
        "## DataLoader tool"
      ],
      "metadata": {
        "id": "eL7IVdMgr1qF"
      }
    },
    {
      "cell_type": "code",
      "source": [
        "from torch.utils.data import DataLoader\n",
        "\n",
        "batch_size = 4\n",
        "trainloader = DataLoader(traindata, batch_size = batch_size, shuffle = True, num_workers=2)"
      ],
      "metadata": {
        "id": "netg4kSIvy_D"
      },
      "execution_count": null,
      "outputs": []
    },
    {
      "cell_type": "markdown",
      "source": [
        "## Building a simple custom neural network"
      ],
      "metadata": {
        "id": "9G9sukYSsBUF"
      }
    },
    {
      "cell_type": "code",
      "source": [
        "# building neural network\n",
        "\n",
        "import torch.nn as nn\n",
        "\n",
        "# number of features (len of X cols)\n",
        "noin = len(X_train[0])   # 4\n",
        "# number of hidden layer nodes\n",
        "nohn = 20\n",
        "# number of classes (unique of y)\n",
        "noon = 3\n",
        "\n",
        "class SimpleNeuralNetwork(nn.Module):\n",
        "  def __init__(self):\n",
        "    super(SimpleNeuralNetwork, self).__init__()\n",
        "    self.linear1 = nn.Linear(noin, nohn)\n",
        "    self.linear2 = nn.Linear(nohn, noon)\n",
        "\n",
        "  def forward(self, x):\n",
        "    x = torch.sigmoid(self.linear1(x))\n",
        "    x = self.linear2(x)\n",
        "    return x"
      ],
      "metadata": {
        "id": "lzEp4wAQv-vl"
      },
      "execution_count": null,
      "outputs": []
    },
    {
      "cell_type": "code",
      "source": [
        "clf = SimpleNeuralNetwork()"
      ],
      "metadata": {
        "id": "VDDfqGeNwOZ1"
      },
      "execution_count": null,
      "outputs": []
    },
    {
      "cell_type": "code",
      "source": [
        "# check the parameters\n",
        "print(clf.parameters)"
      ],
      "metadata": {
        "colab": {
          "base_uri": "https://localhost:8080/"
        },
        "id": "-81BMIDSw4wc",
        "outputId": "6f117646-82d7-4c01-c3a6-0ae02d540038"
      },
      "execution_count": null,
      "outputs": [
        {
          "output_type": "stream",
          "name": "stdout",
          "text": [
            "<bound method Module.parameters of SimpleNeuralNetwork(\n",
            "  (linear1): Linear(in_features=4, out_features=20, bias=True)\n",
            "  (linear2): Linear(in_features=20, out_features=3, bias=True)\n",
            ")>\n"
          ]
        }
      ]
    },
    {
      "cell_type": "markdown",
      "source": [
        "## Cofiguring the optimizer"
      ],
      "metadata": {
        "id": "7P6_RYEC3mxB"
      }
    },
    {
      "cell_type": "code",
      "source": [
        "criterion = nn.CrossEntropyLoss()\n",
        "optimizer = torch.optim.SGD(clf.parameters(), lr=0.1)"
      ],
      "metadata": {
        "id": "aVBCCmBSw-AS"
      },
      "execution_count": null,
      "outputs": []
    },
    {
      "cell_type": "markdown",
      "source": [
        "## Training the neural network"
      ],
      "metadata": {
        "id": "pc_FpSGv4WLr"
      }
    },
    {
      "cell_type": "code",
      "source": [
        "epochs = 10\n",
        "for epoch in range(epochs):\n",
        "  running_loss = 0.0\n",
        "  for i, data in enumerate(trainloader, 0):\n",
        "    inputs, labels = data\n",
        "    # set optimizer to zero grad to remove previous epoch gradients\n",
        "    optimizer.zero_grad()\n",
        "    # forward propagation\n",
        "    outputs = clf(inputs)\n",
        "    loss = criterion(outputs, labels)\n",
        "    # backward propagation\n",
        "    loss.backward()\n",
        "    # optimize\n",
        "    optimizer.step()\n",
        "    running_loss += loss.item()\n",
        "  # display statistics\n",
        "  print(f'[{epoch + 1}, {i + 1:5d}] loss: {running_loss / 1000:.5f}')"
      ],
      "metadata": {
        "colab": {
          "base_uri": "https://localhost:8080/"
        },
        "id": "Gw_np43VxE1F",
        "outputId": "ec96c98b-0936-42e9-ea17-badc2d48c324"
      },
      "execution_count": null,
      "outputs": [
        {
          "output_type": "stream",
          "name": "stdout",
          "text": [
            "[1,    25] loss: 0.00982\n",
            "[2,    25] loss: 0.00964\n",
            "[3,    25] loss: 0.00912\n",
            "[4,    25] loss: 0.00889\n",
            "[5,    25] loss: 0.00874\n",
            "[6,    25] loss: 0.00815\n",
            "[7,    25] loss: 0.00812\n",
            "[8,    25] loss: 0.00763\n",
            "[9,    25] loss: 0.00766\n",
            "[10,    25] loss: 0.00716\n"
          ]
        }
      ]
    },
    {
      "cell_type": "markdown",
      "source": [
        "## Saving the weights "
      ],
      "metadata": {
        "id": "5PHXBqXE4cSQ"
      }
    },
    {
      "cell_type": "code",
      "source": [
        "from google.colab import drive # loads a library to mount your google drive\n",
        "drive.mount('/content/drive') \n",
        "\n",
        "save_path = \"/content/drive/My Drive/Colab Notebooks/models/pytorch_iris.pth\"\n",
        "torch.save(clf.state_dict(), save_path)"
      ],
      "metadata": {
        "id": "RUYsiWMy0v5A",
        "colab": {
          "base_uri": "https://localhost:8080/"
        },
        "outputId": "bafa352e-b68a-443f-b5bf-98f282138109"
      },
      "execution_count": null,
      "outputs": [
        {
          "output_type": "stream",
          "name": "stdout",
          "text": [
            "Mounted at /content/drive\n"
          ]
        }
      ]
    },
    {
      "cell_type": "code",
      "source": [
        "# load\n",
        "clf = SimpleNeuralNetwork()\n",
        "clf.load_state_dict(torch.load(save_path))\n"
      ],
      "metadata": {
        "id": "zTdSgnUs9hHX"
      },
      "execution_count": null,
      "outputs": []
    },
    {
      "cell_type": "markdown",
      "source": [
        "## Testing the neural network with few test data"
      ],
      "metadata": {
        "id": "jXFGnV_T4hBI"
      }
    },
    {
      "cell_type": "code",
      "source": [
        "testdata = Data(X_test, Y_test)\n",
        "\n",
        "testloader = DataLoader(testdata, batch_size=batch_size, \n",
        "                        shuffle=True, num_workers=2)"
      ],
      "metadata": {
        "id": "1PRUmv5j9pJc"
      },
      "execution_count": null,
      "outputs": []
    },
    {
      "cell_type": "code",
      "source": [
        "dataiter = iter(testloader)\n",
        "inputs, labels = next(dataiter)\n",
        "\n",
        "print(inputs)\n",
        "print(labels)"
      ],
      "metadata": {
        "colab": {
          "base_uri": "https://localhost:8080/"
        },
        "id": "-bsQco0v9wmu",
        "outputId": "40e00964-45a5-43e7-cade-7950c724f1b8"
      },
      "execution_count": null,
      "outputs": [
        {
          "output_type": "stream",
          "name": "stdout",
          "text": [
            "tensor([[5.8000, 2.7000, 3.9000, 1.2000],\n",
            "        [6.5000, 3.2000, 5.1000, 2.0000],\n",
            "        [5.6000, 2.5000, 3.9000, 1.1000],\n",
            "        [7.7000, 2.6000, 6.9000, 2.3000]])\n",
            "tensor([1, 2, 1, 2])\n"
          ]
        }
      ]
    },
    {
      "cell_type": "code",
      "source": [
        "outputs = clf(inputs)\n",
        "\n",
        "__, predicted = torch.max(outputs, 1)\n",
        "print(predicted)"
      ],
      "metadata": {
        "colab": {
          "base_uri": "https://localhost:8080/"
        },
        "id": "qt8WAiml-QLf",
        "outputId": "4ba2136b-92f8-472b-abd9-232f00e90186"
      },
      "execution_count": null,
      "outputs": [
        {
          "output_type": "stream",
          "name": "stdout",
          "text": [
            "tensor([1, 2, 1, 2])\n"
          ]
        }
      ]
    },
    {
      "cell_type": "markdown",
      "source": [
        "## Testing the test set then calculating the accuracy"
      ],
      "metadata": {
        "id": "F-oGiyq74p8x"
      }
    },
    {
      "cell_type": "code",
      "source": [
        "correct, total = 0, 0\n",
        "# no need to calculate gradients during inference\n",
        "with torch.no_grad():\n",
        "  for data in testloader:\n",
        "    inputs, labels = data\n",
        "    # calculate output by running through the network\n",
        "    outputs = clf(inputs)\n",
        "    # get the predictions\n",
        "    __, predicted = torch.max(outputs.data, 1)\n",
        "    # update results\n",
        "    total += labels.size(0)\n",
        "    correct += (predicted == labels).sum().item()\n",
        "print(f'Accuracy of the network on the {len(testdata)} test data: {100 * correct // total} %')"
      ],
      "metadata": {
        "colab": {
          "base_uri": "https://localhost:8080/"
        },
        "id": "0Jx1vgSc-ZtM",
        "outputId": "3a6f8718-1aea-499d-a4da-e9a59cdcf2d8"
      },
      "execution_count": null,
      "outputs": [
        {
          "output_type": "stream",
          "name": "stdout",
          "text": [
            "Accuracy of the network on the 50 test data: 94 %\n"
          ]
        }
      ]
    }
  ]
}